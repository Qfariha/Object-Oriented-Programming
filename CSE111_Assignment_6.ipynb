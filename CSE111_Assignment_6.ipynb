{
  "nbformat": 4,
  "nbformat_minor": 0,
  "metadata": {
    "colab": {
      "provenance": []
    },
    "kernelspec": {
      "name": "python3",
      "display_name": "Python 3"
    },
    "language_info": {
      "name": "python"
    }
  },
  "cells": [
    {
      "cell_type": "code",
      "execution_count": null,
      "metadata": {
        "colab": {
          "base_uri": "https://localhost:8080/"
        },
        "id": "ButVG76gKT5E",
        "outputId": "00d64152-1756-4124-992a-7c4aca77e546"
      },
      "outputs": [
        {
          "output_type": "stream",
          "name": "stdout",
          "text": [
            "ID: 1 \n",
            "Name:Samin \n",
            "Department: CSE \n",
            "Age; 21 \n",
            "CGPA:3.91\n",
            "-----------------------\n",
            "ID: 2 \n",
            "Name:Fahim \n",
            "Department: ECE \n",
            "Age; 21 \n",
            "CGPA:3.85\n",
            "-----------------------\n",
            "ID: 3 \n",
            "Name:Tahura \n",
            "Department: EEE \n",
            "Age; 22 \n",
            "CGPA:3.01\n",
            "-----------------------\n",
            "ID: 4 \n",
            "Name:Sumaiya \n",
            "Department: BBA \n",
            "Age; 23 \n",
            "CGPA:3.96\n"
          ]
        }
      ],
      "source": [
        "#task-1\n",
        "class Student:\n",
        "  id=0\n",
        "  def __init__(self,n,d,a,c):\n",
        "    self.name=n\n",
        "    self.dept=d\n",
        "    self.age=a\n",
        "    self.cg=c\n",
        "    Student.id+=1\n",
        "  def get_details(self):\n",
        "    print(f'ID: {Student.id} \\nName:{self.name} \\nDepartment: {self.dept} \\nAge; {self.age} \\nCGPA:{self.cg}')\n",
        "  @classmethod\n",
        "  def from_String(cls,s):\n",
        "    a,b,c,d=s.split(\"-\")\n",
        "    return cls(a,b,c,d)\n",
        "\n",
        "\n",
        "s1 = Student(\"Samin\", \"CSE\", 21, 3.91)\n",
        "s1.get_details()\n",
        "print(\"-----------------------\")\n",
        "s2 = Student(\"Fahim\", \"ECE\", 21, 3.85)\n",
        "s2.get_details()\n",
        "print(\"-----------------------\")\n",
        "s3 = Student(\"Tahura\", \"EEE\", 22, 3.01)\n",
        "s3.get_details()\n",
        "print(\"-----------------------\")\n",
        "s4 = Student.from_String(\"Sumaiya-BBA-23-3.96\")\n",
        "s4.get_details()"
      ]
    },
    {
      "cell_type": "code",
      "source": [
        "#task-2\n",
        "class Assassin:\n",
        "  no=0\n",
        "  def __init__(self,n,s):\n",
        "    self.name=n\n",
        "    self.success=s\n",
        "    Assassin.no+=1\n",
        "  @classmethod\n",
        "  def failureRate(cls,n1,f):\n",
        "    \n",
        "    obj = cls(n1,100-f)\n",
        "    return obj\n",
        "\n",
        "  @classmethod\n",
        "  def failurePercentage(cls,n2,fp):\n",
        "    #Assassin.no+=1\n",
        "    fp1=int(fp[:-1])\n",
        "    obj1=cls(n2,100-fp1)\n",
        "    return obj1 #return korbo karon obj create korar por location ta ferot pathaitesi\n",
        "    \n",
        "    \n",
        "  def printDetails(self):\n",
        "    print(f'Name:{self.name} \\nSuccess Rate:{self.success}% \\nTotal number of Assassin:{Assassin.no}')\n",
        "\n",
        "\n",
        "\n",
        "john_wick = Assassin('John Wick', 100)\n",
        "john_wick.printDetails()\n",
        "print('================================')\n",
        "nagisa = Assassin.failureRate(\"Nagisa\", 20)\n",
        "nagisa.printDetails()\n",
        "print('================================')\n",
        "akabane = Assassin.failurePercentage(\"Akabane\", \"10%\")\n",
        "akabane.printDetails()"
      ],
      "metadata": {
        "colab": {
          "base_uri": "https://localhost:8080/"
        },
        "id": "9sfYvIfES6PV",
        "outputId": "bf2d094f-7896-417a-9380-236590eba282"
      },
      "execution_count": null,
      "outputs": [
        {
          "output_type": "stream",
          "name": "stdout",
          "text": [
            "Name:John Wick \n",
            "Success Rate:100% \n",
            "Total number of Assassin:1\n",
            "================================\n",
            "Name:Nagisa \n",
            "Success Rate:80% \n",
            "Total number of Assassin:2\n",
            "================================\n",
            "Name:Akabane \n",
            "Success Rate:90% \n",
            "Total number of Assassin:3\n"
          ]
        }
      ]
    },
    {
      "cell_type": "code",
      "source": [
        "#task-3\n",
        "class Passenger:\n",
        "  count=0\n",
        "  def __init__(self,n):\n",
        "    \n",
        "    self.name=n\n",
        "    self.fee=450\n",
        "    Passenger.count+=1\n",
        "  def set_bag_weight(self,w):\n",
        "    self.weight=w\n",
        "  def printDetail(self):\n",
        "    if 21<self.weight<50:\n",
        "      self.fee+=50\n",
        "    else:\n",
        "      self.fee+=100\n",
        "    print(f'Name:{self.name} \\nBus Fare:{self.fee}')\n",
        "\n",
        "print(\"Total Passenger:\", Passenger.count)\n",
        "p1 = Passenger(\"Jack\")\n",
        "p1.set_bag_weight(90)\n",
        "p2 = Passenger(\"Carol\")\n",
        "p2.set_bag_weight(10)\n",
        "p3 = Passenger(\"Mike\")\n",
        "p3.set_bag_weight(25)\n",
        "print(\"=========================\")\n",
        "p1.printDetail()\n",
        "print(\"=========================\")\n",
        "p2.printDetail()\n",
        "print(\"=========================\")\n",
        "p3.printDetail()\n",
        "print(\"=========================\")\n",
        "print(\"Total Passenger:\", Passenger.count)"
      ],
      "metadata": {
        "colab": {
          "base_uri": "https://localhost:8080/"
        },
        "id": "M-rKGNhWYa-i",
        "outputId": "1fda6852-8c2e-4530-d353-3bed4104ba0a"
      },
      "execution_count": null,
      "outputs": [
        {
          "output_type": "stream",
          "name": "stdout",
          "text": [
            "Total Passenger: 0\n",
            "=========================\n",
            "Name:Jack \n",
            "Bus Fare:550\n",
            "=========================\n",
            "Name:Carol \n",
            "Bus Fare:550\n",
            "=========================\n",
            "Name:Mike \n",
            "Bus Fare:500\n",
            "=========================\n",
            "Total Passenger: 3\n"
          ]
        }
      ]
    },
    {
      "cell_type": "code",
      "source": [
        "#task-4\n",
        "class Travel:\n",
        "  count=0\n",
        "  def __init__(self,s,d,t=1):\n",
        "    self.source=s\n",
        "    self.des=d\n",
        "    self.flight=t\n",
        "    Travel.count+=1\n",
        "  \n",
        "  def display_travel_info(self):\n",
        "    return (f'Sourse: {self.source} \\nDestination:{self.des} \\nFlight Time={self.flight}:00')\n",
        "  \n",
        "  def set_time(self,t1):\n",
        "    self.flight=t1\n",
        "  def set_destination(self,d1):\n",
        "    self.des=d1\n",
        "  def set_source(self,s1):\n",
        "    self.source=s1\n",
        "\n",
        "print(\"No. of Traveller =\", Travel.count)\n",
        "print(\"=======================\")\n",
        "t1 = Travel(\"Dhaka\",\"India\")\n",
        "print(t1.display_travel_info())\n",
        "print(\"=======================\")\n",
        "t2 = Travel(\"Kuala Lampur\",\"Dhaka\")\n",
        "t2.set_time(23)\n",
        "print(t2.display_travel_info())\n",
        "print(\"=======================\")\n",
        "t3 = Travel(\"Dhaka\",\"New_Zealand\")\n",
        "t3.set_time(15)\n",
        "t3.set_destination(\"Germany\")\n",
        "print(t3.display_travel_info())\n",
        "print(\"=======================\")\n",
        "t4 = Travel(\"Dhaka\",\"India\")\n",
        "t4.set_time(9)\n",
        "t4.set_source(\"Malaysia\")\n",
        "t4.set_destination(\"Canada\")\n",
        "print(t4.display_travel_info())\n",
        "print(\"=======================\")\n",
        "print(\"No. of Traveller =\", Travel.count)"
      ],
      "metadata": {
        "colab": {
          "base_uri": "https://localhost:8080/"
        },
        "id": "_vrHFqcqoZVs",
        "outputId": "c044eacf-0355-4d07-bd2a-a5921659eceb"
      },
      "execution_count": null,
      "outputs": [
        {
          "output_type": "stream",
          "name": "stdout",
          "text": [
            "No. of Traveller = 0\n",
            "=======================\n",
            "Sourse: Dhaka \n",
            "Destination:India \n",
            "Flight Time=1:00\n",
            "=======================\n",
            "Sourse: Kuala Lampur \n",
            "Destination:Dhaka \n",
            "Flight Time=23:00\n",
            "=======================\n",
            "Sourse: Dhaka \n",
            "Destination:Germany \n",
            "Flight Time=15:00\n",
            "=======================\n",
            "Sourse: Malaysia \n",
            "Destination:Canada \n",
            "Flight Time=9:00\n",
            "=======================\n",
            "No. of Traveller = 4\n"
          ]
        }
      ]
    },
    {
      "cell_type": "code",
      "source": [
        "#task-5\n",
        "class Employee:\n",
        "  def __init__(self,n,w):\n",
        "    self.name=n\n",
        "    self.workingPeriod=w\n",
        "  @classmethod\n",
        "  def employeeByJoiningYear(cls,n1,y):\n",
        "    # cls.name=n1\n",
        "    # cls.workingPeriod=2022-y\n",
        "    # obj= cls(cls.name,cls.workingPeriod)\n",
        "    obj=cls(n1,y)\n",
        "    return obj\n",
        "  @staticmethod\n",
        "  def experienceCheck(e,g):\n",
        "    if e<2 and g==\"female\":\n",
        "      return(\"She is not experienced\")\n",
        "    else:\n",
        "      return(\"She is experienced\")\n",
        "    if e<2 and g==\"male\":\n",
        "      return(\"He is not experienced\")\n",
        "    else:\n",
        "      return(\"He is experienced\")\n",
        "\n",
        "\n",
        "employee1 = Employee('Dororo', 3)\n",
        "employee2 = Employee.employeeByJoiningYear('Harry', 2016)\n",
        "print(employee1.workingPeriod)\n",
        "print(employee2.workingPeriod)\n",
        "print(employee1.name)\n",
        "print(employee2.name)\n",
        "print(Employee.experienceCheck(2, \"male\"))\n",
        "print(Employee.experienceCheck(3, \"female\"))"
      ],
      "metadata": {
        "colab": {
          "base_uri": "https://localhost:8080/"
        },
        "id": "O-32nIquqcAF",
        "outputId": "ffaa4570-700a-4a28-d1e7-a6d494fb7fd3"
      },
      "execution_count": null,
      "outputs": [
        {
          "output_type": "stream",
          "name": "stdout",
          "text": [
            "3\n",
            "2016\n",
            "Dororo\n",
            "Harry\n",
            "She is experienced\n",
            "She is experienced\n"
          ]
        }
      ]
    },
    {
      "cell_type": "code",
      "source": [
        "#task-6\n",
        "class Laptop:\n",
        "  laptopCount=0\n",
        "  def __init__(self,l,n):\n",
        "    Laptop.laptopCount+=n\n",
        "    self.name=l\n",
        "    self.count=n\n",
        "  @staticmethod\n",
        "  def advantage():\n",
        "    print(\"Laptops are portable\")\n",
        "  @classmethod\n",
        "  def resetCount(cls):\n",
        "    Laptop.laptopCount=0\n",
        "lenovo = Laptop(\"Lenovo\", 5);\n",
        "dell = Laptop(\"Dell\", 7);\n",
        "print(lenovo.name, lenovo.count)\n",
        "print(dell.name, dell.count)\n",
        "print(\"Total number of Laptops\", Laptop.laptopCount)\n",
        "Laptop.advantage()\n",
        "Laptop.resetCount()\n",
        "print(\"Total number of Laptops\", Laptop.laptopCount)"
      ],
      "metadata": {
        "colab": {
          "base_uri": "https://localhost:8080/"
        },
        "id": "UnFx6PMobDZe",
        "outputId": "2bcbdb72-988a-4949-9c1f-c83f27711e08"
      },
      "execution_count": null,
      "outputs": [
        {
          "output_type": "stream",
          "name": "stdout",
          "text": [
            "Lenovo 5\n",
            "Dell 7\n",
            "Total number of Laptops 12\n",
            "Laptops are portable\n",
            "Total number of Laptops 0\n"
          ]
        }
      ]
    },
    {
      "cell_type": "code",
      "source": [
        "#task-7\n",
        "class Cat:\n",
        "  Number_of_cats=0\n",
        "  def __init__(self,c,t):\n",
        "    Cat.Number_of_cats+=1\n",
        "    self.color=c\n",
        "    self.task=t\n",
        "  @classmethod\n",
        "  def no_parameter(cls):\n",
        "    obj=Cat(\"White\",\"sitting\")\n",
        "    return obj\n",
        "  @classmethod\n",
        "  def first_parameter(cls,c1):\n",
        "    obj1= cls(c1,\"sitting\")\n",
        "    return obj1\n",
        "  @classmethod\n",
        "  def second_parameter(cls,t1):\n",
        "    obj2= cls(\"Grey\",t1)\n",
        "    return obj2\n",
        "  def changeColor(self,c3):\n",
        "    self.color=c3\n",
        "  def printCat(self):\n",
        "    print(f'{self.color} is {self.task}')\n",
        "\n",
        "print(\"Total number of cats:\", Cat.Number_of_cats)\n",
        "c1 = Cat.no_parameter()\n",
        "c2 = Cat.first_parameter(\"Black\")\n",
        "c3 = Cat(\"Brown\", \"jumping\")\n",
        "c4 = Cat(\"Red\", \"purring\")\n",
        "c5 = Cat.second_parameter(\"playing\")\n",
        "print(\"=======================\")\n",
        "c1.printCat()\n",
        "c2.printCat()\n",
        "c3.printCat()\n",
        "c4.printCat()\n",
        "c5.printCat()\n",
        "c1.changeColor(\"Blue\")\n",
        "c3.changeColor(\"Purple\")\n",
        "c1.printCat()\n",
        "c3.printCat()\n",
        "print(\"=======================\")\n",
        "print(\"Total number of cats:\", Cat.Number_of_cats)"
      ],
      "metadata": {
        "colab": {
          "base_uri": "https://localhost:8080/"
        },
        "id": "ilePaY5odXGA",
        "outputId": "99ef6571-c7c9-4dbb-815d-7fa5f81b7813"
      },
      "execution_count": null,
      "outputs": [
        {
          "output_type": "stream",
          "name": "stdout",
          "text": [
            "Total number of cats: 0\n",
            "=======================\n",
            "White is sitting\n",
            "Black is sitting\n",
            "Brown is jumping\n",
            "Red is purring\n",
            "Grey is playing\n",
            "Blue is sitting\n",
            "Purple is jumping\n",
            "=======================\n",
            "Total number of cats: 5\n"
          ]
        }
      ]
    },
    {
      "cell_type": "code",
      "source": [
        "#task-8\n",
        "class Cylinder:\n",
        "  dradius=5.0\n",
        "  dheight=18.0\n",
        "  def __init__(self,r,h):\n",
        "    self.radius=float(r)\n",
        "    self.height=float(h)\n",
        "    print(f'Default radius={Cylinder.dradius} and height={Cylinder.dheight}. \\nUpdated: radius={self.radius} and height={self.height}.')\n",
        "    Cylinder.dradius=self.radius\n",
        "    Cylinder.dheight=self.height\n",
        "  @staticmethod\n",
        "  def area(r1,h1):\n",
        "    area=(2*3.1416*float(r1*r1))+(2*3.1416*float(r1*h1))\n",
        "    print(\"Area:\",area)\n",
        "  @staticmethod\n",
        "  def volume(r1,h1):\n",
        "    \n",
        "    volume=(3.1416*r1*r1*h1)\n",
        "    print(\"Volume\",volume)\n",
        "  @classmethod\n",
        "  def swap(cls,h2,r2):\n",
        "    \n",
        "    cls.height=float(h2)\n",
        "    cls.radius=float(r2)\n",
        "    obj=cls(cls.radius,cls.height)\n",
        "    return obj\n",
        "  @classmethod\n",
        "  def changeFormat(cls,s):\n",
        "    var=s.split(\"-\")\n",
        "    cls.radius=float(var[0])\n",
        "    cls.height=float(var[1])\n",
        "    obj=cls(cls.radius,cls.height)\n",
        "    return obj\n",
        "\n",
        "c1 = Cylinder(0,0)\n",
        "Cylinder.area(c1.radius,c1.height)\n",
        "Cylinder.volume(c1.radius,c1.height)\n",
        "print(\"===============================\")\n",
        "c2 = Cylinder.swap(8,3)\n",
        "c2.area(c2.radius,c2.height)\n",
        "c2.volume(c2.radius,c2.height)\n",
        "print(\"===============================\")\n",
        "c3 = Cylinder.changeFormat(\"7-13\")\n",
        "c3.area(c3.radius,c3.height)\n",
        "c3.volume(c3.radius,c3.height)\n",
        "print(\"===============================\")\n",
        "Cylinder(0.3,5.56).area(Cylinder.radius,Cylinder.height)\n",
        "print(\"===============================\")\n",
        "Cylinder(3,5).volume(Cylinder.radius,Cylinder.height)"
      ],
      "metadata": {
        "colab": {
          "base_uri": "https://localhost:8080/"
        },
        "id": "NhRsVF1ts7c9",
        "outputId": "7af77484-2d16-4353-951e-1e9a9d196f21"
      },
      "execution_count": null,
      "outputs": [
        {
          "output_type": "stream",
          "name": "stdout",
          "text": [
            "Default radius=5.0 and height=18.0. \n",
            "Updated: radius=0.0 and height=0.0.\n",
            "Area: 0.0\n",
            "Volume 0.0\n",
            "===============================\n",
            "Default radius=0.0 and height=0.0. \n",
            "Updated: radius=3.0 and height=8.0.\n",
            "Area: 207.3456\n",
            "Volume 226.1952\n",
            "===============================\n",
            "Default radius=3.0 and height=8.0. \n",
            "Updated: radius=7.0 and height=13.0.\n",
            "Area: 879.648\n",
            "Volume 2001.1992\n",
            "===============================\n",
            "Default radius=7.0 and height=13.0. \n",
            "Updated: radius=0.3 and height=5.56.\n",
            "Area: 879.648\n",
            "===============================\n",
            "Default radius=0.3 and height=5.56. \n",
            "Updated: radius=3.0 and height=5.0.\n",
            "Volume 2001.1992\n"
          ]
        }
      ]
    },
    {
      "cell_type": "code",
      "source": [
        "#task-9\n",
        "class Student:\n",
        "  tstudent=0\n",
        "  bstudent=0\n",
        "  ostudent=0\n",
        "  def __init__(self,n,d,i=\"BRAC University\"):\n",
        "    self.name=n\n",
        "    self.dept=d\n",
        "    self.ins=i\n",
        "    Student.tstudent+=1\n",
        "    if self.ins==\"BRAC University\":\n",
        "      Student.bstudent+=1\n",
        "    else:\n",
        "      Student.ostudent+=1\n",
        "  def individualDetail(self):\n",
        "    print(f'Name:{self.name} \\nDepartment:{self.dept} \\nInstitution:{self.ins}')\n",
        "  @staticmethod\n",
        "  def printDetails():\n",
        "    print(f'Total Student(s): {Student.tstudent} \\nBRAC University Student(s): {Student.bstudent} \\nOther Institution Student(s): {Student.ostudent}')\n",
        "  @classmethod\n",
        "  def createStudent(cls,n1,d1,i1=\"BRAC University\"):\n",
        "    # cls.name=n1\n",
        "    # cls.dept=d1\n",
        "    # cls.ins=i1\n",
        "    obj=cls(n1,d1,i1)\n",
        "    return obj\n",
        "\n",
        "Student.printDetails()\n",
        "print('#########################')\n",
        "mikasa = Student('Mikasa Ackerman', \"CSE\")\n",
        "mikasa.individualDetail()\n",
        "print('------------------------------------------')\n",
        "Student.printDetails()\n",
        "print('========================')\n",
        "harry = Student.createStudent('Harry Potter', \"Defence Against Dark Arts\", \"Hogwarts School\")\n",
        "harry.individualDetail()\n",
        "print('-------------------------------------------')\n",
        "Student.printDetails()\n",
        "print('=========================')\n",
        "levi = Student.createStudent(\"Levi Ackerman\", \"CSE\")\n",
        "levi.individualDetail()\n",
        "print('--------------------------------------------')\n",
        "Student.printDetails()"
      ],
      "metadata": {
        "colab": {
          "base_uri": "https://localhost:8080/"
        },
        "id": "N2Cvno9uxkDQ",
        "outputId": "da5ce094-7854-401d-f40c-7ac45cffb2d1"
      },
      "execution_count": null,
      "outputs": [
        {
          "output_type": "stream",
          "name": "stdout",
          "text": [
            "Total Student(s): 0 \n",
            "BRAC University Student(s): 0 \n",
            "Other Institution Student(s): 0\n",
            "#########################\n",
            "Name:Mikasa Ackerman \n",
            "Deaprtment:CSE \n",
            "Institution:BRAC University\n",
            "------------------------------------------\n",
            "Total Student(s): 1 \n",
            "BRAC University Student(s): 1 \n",
            "Other Institution Student(s): 0\n",
            "========================\n",
            "Name:Harry Potter \n",
            "Deaprtment:Defence Against Dark Arts \n",
            "Institution:Hogwarts School\n",
            "-------------------------------------------\n",
            "Total Student(s): 2 \n",
            "BRAC University Student(s): 1 \n",
            "Other Institution Student(s): 1\n",
            "=========================\n",
            "Name:Levi Ackerman \n",
            "Deaprtment:CSE \n",
            "Institution:BRAC University\n",
            "--------------------------------------------\n",
            "Total Student(s): 3 \n",
            "BRAC University Student(s): 2 \n",
            "Other Institution Student(s): 1\n"
          ]
        }
      ]
    },
    {
      "cell_type": "code",
      "source": [
        "#task-10\n",
        "class SultansDine:\n",
        "  bcount=0\n",
        "  tsell=0\n",
        "  bname1=[]\n",
        "  bsell1=[]\n",
        "  percent=[]\n",
        "\n",
        "  def __init__(self,l):\n",
        "    self.bname=l\n",
        "    self.bsell=0\n",
        "    self.per=0\n",
        "\n",
        "    SultansDine.bcount+=1\n",
        "  def sellQuantity(self,q):\n",
        "    self.quantity=q\n",
        "    if self.quantity < 10:\n",
        "      self.bsell = self.quantity *300\n",
        "    elif self.quantity < 20:\n",
        "      self.bsell = self.quantity *350\n",
        "    else:\n",
        "      self.bsell = self.quantity *400\n",
        "    \n",
        "    \n",
        "    SultansDine.tsell+=self.bsell\n",
        "    if SultansDine.tsell!=0:\n",
        "      self.per=(self.bsell/SultansDine.tsell)*100\n",
        "\n",
        "    SultansDine.bname1.append(self.bname)\n",
        "    SultansDine.bsell1.append(self.bsell)\n",
        "    SultansDine.percent.append(self.per)\n",
        "  def branchInformation(self):\n",
        "    \n",
        "    print(f'Branch Name:{self.bname} \\nBranch Sell:{self.bsell}')\n",
        "  @staticmethod\n",
        "  def details():\n",
        "    if SultansDine.bcount==0 and SultansDine.tsell==0:\n",
        "      print(f'Total Number of branch(s):{SultansDine.bcount} \\nTotal Sell: {SultansDine.tsell}')\n",
        "    else:\n",
        "      for index in range(SultansDine.bcount):\n",
        "        print(f'Total Number of branch(s):{SultansDine.bcount} \\nTotal Sell: {SultansDine.tsell} \\nBranch Name: {SultansDine.bname1[index]}, Branch Sell: {SultansDine.bsell1[index]} \\nBranch consists of total sell\"s:{SultansDine.percent[index]}%')\n",
        "\n",
        "\n",
        "SultansDine.details()\n",
        "print('########################')\n",
        "dhanmodi = SultansDine('Dhanmondi')\n",
        "dhanmodi.sellQuantity(25)\n",
        "dhanmodi.branchInformation()\n",
        "print('-----------------------------------------')\n",
        "SultansDine.details()\n",
        "print('========================')\n",
        "baily_road = SultansDine('Baily Road')\n",
        "baily_road.sellQuantity(15)\n",
        "baily_road.branchInformation()\n",
        "print('-----------------------------------------')\n",
        "SultansDine.details()\n",
        "print('========================')\n",
        "gulshan = SultansDine('Gulshan')\n",
        "gulshan.sellQuantity(9)\n",
        "gulshan.branchInformation()\n",
        "print('-----------------------------------------')\n",
        "SultansDine.details()"
      ],
      "metadata": {
        "colab": {
          "base_uri": "https://localhost:8080/"
        },
        "id": "9dyQBPns2UMG",
        "outputId": "fed73905-bb06-4b52-b193-bf1556a8ff20"
      },
      "execution_count": null,
      "outputs": [
        {
          "output_type": "stream",
          "name": "stdout",
          "text": [
            "Total Number of branch(s):0 \n",
            "Total Sell: 0\n",
            "########################\n",
            "Branch Name:Dhanmondi \n",
            "Branch Sell:10000\n",
            "-----------------------------------------\n",
            "Total Number of branch(s):1 \n",
            "Total Sell: 10000 \n",
            "Branch Name: Dhanmondi, Branch Sell: 10000 \n",
            "Branch consists of total sell\"s:100.0%\n",
            "========================\n",
            "Branch Name:Baily Road \n",
            "Branch Sell:5250\n",
            "-----------------------------------------\n",
            "Total Number of branch(s):2 \n",
            "Total Sell: 15250 \n",
            "Branch Name: Dhanmondi, Branch Sell: 10000 \n",
            "Branch consists of total sell\"s:100.0%\n",
            "Total Number of branch(s):2 \n",
            "Total Sell: 15250 \n",
            "Branch Name: Baily Road, Branch Sell: 5250 \n",
            "Branch consists of total sell\"s:34.42622950819672%\n",
            "========================\n",
            "Branch Name:Gulshan \n",
            "Branch Sell:2700\n",
            "-----------------------------------------\n",
            "Total Number of branch(s):3 \n",
            "Total Sell: 17950 \n",
            "Branch Name: Dhanmondi, Branch Sell: 10000 \n",
            "Branch consists of total sell\"s:100.0%\n",
            "Total Number of branch(s):3 \n",
            "Total Sell: 17950 \n",
            "Branch Name: Baily Road, Branch Sell: 5250 \n",
            "Branch consists of total sell\"s:34.42622950819672%\n",
            "Total Number of branch(s):3 \n",
            "Total Sell: 17950 \n",
            "Branch Name: Gulshan, Branch Sell: 2700 \n",
            "Branch consists of total sell\"s:15.041782729805014%\n"
          ]
        }
      ]
    },
    {
      "cell_type": "code",
      "source": [
        "class Puzzle:\n",
        "    x = 0\n",
        "    def methodA(self):\n",
        "        Puzzle.x = 5 \n",
        "        z = Puzzle.x + self.methodB(Puzzle.x)\n",
        "        print(Puzzle.x, z)\n",
        "        z = self.methodB(z + 2) + Puzzle.x\n",
        "        print(Puzzle.x, z)\n",
        "        self.methodB(Puzzle.x, z)\n",
        "        print(Puzzle.x, z)\n",
        " \n",
        "    def methodB(self, *args):\n",
        "        if len(args) == 1:\n",
        "            y = args[0]\n",
        "            Puzzle.x = y + Puzzle.x\n",
        "            print(Puzzle.x, y)\n",
        "            return Puzzle.x + 3\n",
        "        else:\n",
        "            z, x = args\n",
        "            z = z + 1\n",
        "            x = x + 1\n",
        "            print(z, x)\n",
        "\n",
        "p = Puzzle()\n",
        "p.methodA()\n",
        "p.methodA()\n",
        "p = Puzzle()\n",
        "p.methodA()\n",
        "p.methodB(7)"
      ],
      "metadata": {
        "colab": {
          "base_uri": "https://localhost:8080/"
        },
        "id": "eNYLLZBEqx_E",
        "outputId": "87eb8c39-7416-4620-a5fd-8ff14c4e6e7e"
      },
      "execution_count": null,
      "outputs": [
        {
          "output_type": "stream",
          "name": "stdout",
          "text": [
            "10 5\n",
            "10 18\n",
            "30 20\n",
            "30 63\n",
            "31 64\n",
            "30 63\n",
            "10 5\n",
            "10 18\n",
            "30 20\n",
            "30 63\n",
            "31 64\n",
            "30 63\n",
            "10 5\n",
            "10 18\n",
            "30 20\n",
            "30 63\n",
            "31 64\n",
            "30 63\n",
            "37 7\n"
          ]
        },
        {
          "output_type": "execute_result",
          "data": {
            "text/plain": [
              "40"
            ]
          },
          "metadata": {},
          "execution_count": 23
        }
      ]
    },
    {
      "cell_type": "code",
      "source": [
        "class FinalT6A:\n",
        "    temp = 3\n",
        " \n",
        "    def __init__(self, x, p):\n",
        "        self.sum, self.y = 0, 2\n",
        "        FinalT6A.temp += 3\n",
        "        self.y = self.temp - p\n",
        "        self.sum = self.temp + x\n",
        "        print(x, self.y, self.sum)\n",
        "    \n",
        "    def methodA(self):\n",
        "        x, y = 0, 0\n",
        "        y = y + self.y\n",
        "        x = self.y + 2 + self.temp\n",
        "        self.sum = x + y + self.methodB(self.temp, y)\n",
        "        print(x, y, self.sum)\n",
        "    \n",
        "    def methodB(self, temp, n):\n",
        "        x = 0\n",
        "        FinalT6A.temp += 1\n",
        "        self.y = self.y + (FinalT6A.temp)\n",
        "        FinalT6A.temp -= 1\n",
        "        x = x + 2 + n\n",
        "        self.sum = self.sum + x + self.y\n",
        "        print(x, self.y, self.sum)\n",
        "        return self.sum\n",
        "\n",
        "q1 = FinalT6A(2,1)\n",
        "q1.methodA()\n",
        "q1.methodA()\n"
      ],
      "metadata": {
        "colab": {
          "base_uri": "https://localhost:8080/"
        },
        "id": "CetKInJUstOd",
        "outputId": "88dab301-10f6-4b61-ad09-ea4f3cf3d4c6"
      },
      "execution_count": null,
      "outputs": [
        {
          "output_type": "stream",
          "name": "stdout",
          "text": [
            "2 5 8\n",
            "7 12 27\n",
            "13 5 45\n",
            "14 19 78\n",
            "20 12 110\n"
          ]
        }
      ]
    },
    {
      "cell_type": "code",
      "source": [
        "class A:\n",
        "    temp = 4\n",
        "    def __init__(self):\n",
        "        self.y = self.temp - 2\n",
        "        self.sum = self.temp + 1\n",
        "        A.temp -= 2\n",
        "        self.methodA(3, 4)\n",
        "    def methodA(self, m, n):\n",
        "        x = 0\n",
        "        self.y = self.y + m + (self.temp)\n",
        "        A.temp += 1\n",
        "        x = x + 1 + n\n",
        "        self.sum = self.sum + x + self.y\n",
        "        print(x, self.y, self.sum)\n",
        "    \n",
        "class B:\n",
        "    x = 0\n",
        "    def __init__(self, b = None):\n",
        "        self.y, self.temp, self.sum = 5, -5, 2\n",
        " \n",
        "        if b == None:\n",
        "            self.y = self.temp + 3\n",
        "            self.sum = 3 + self.temp + 2\n",
        "            self.temp -= 2\n",
        "        else:\n",
        "            self.sum = b.sum\n",
        "            B.x = b.x\n",
        "            b.methodB(2, 3)\n",
        "    def methodA(self, m, n):\n",
        "        x = 2\n",
        "        self.y = self.y + m + (self.temp)\n",
        "        self.temp += 1\n",
        "        x = x + 5 + n\n",
        "        self.sum = self.sum + x + self.y\n",
        "        print(x, self.y, self.sum)\n",
        "    def methodB(self, m, n):\n",
        "        y = 0\n",
        "        y = y + self.y\n",
        "        B.x = self.y + 2 + self.temp\n",
        "        self.methodA(self.x, y)\n",
        "        self.sum = self.x + y + self.sum\n",
        "        print(self.x, y, self.sum)\n",
        "\n",
        "a1=A()\n",
        "b1=B()\n",
        "b2=B(b1)\n",
        "b1.methodA(1,2)\n",
        "b2.methodB(3,2)"
      ],
      "metadata": {
        "colab": {
          "base_uri": "https://localhost:8080/"
        },
        "id": "f15BupQjvwBO",
        "outputId": "b616de59-d6c9-44da-d5f8-b899c395581d"
      },
      "execution_count": null,
      "outputs": [
        {
          "output_type": "stream",
          "name": "stdout",
          "text": [
            "5 7 17\n",
            "5 -16 -11\n",
            "-7 -2 -20\n",
            "9 -21 -32\n",
            "12 2 14\n",
            "2 5 21\n"
          ]
        }
      ]
    },
    {
      "cell_type": "code",
      "source": [
        "class msgClass:\n",
        "    def __init__(self):\n",
        "        self.content = 0\n",
        " \n",
        "class Quiz3:\n",
        "    x = 0\n",
        "    def __init__(self, k = None):\n",
        "        self.sum, self.y = 0, 0\n",
        "        if k is None:\n",
        "            self.sum = 5\n",
        "            Quiz3.x = 2\n",
        "            self.y = 2\n",
        "        else:\n",
        "            self.sum = self.sum + k\n",
        "            self.y = 3\n",
        "            Quiz3.x += 2    \n",
        "    def methodA(self):\n",
        "        x = 1\n",
        "        y = 1\n",
        "        msg = [None]\n",
        "        myMsg = msgClass()\n",
        "        myMsg.content = Quiz3.x\n",
        "        msg[0] = myMsg\n",
        "        msg[0].content = self.y + myMsg.content\n",
        "        self.y = self.y + self.methodB(msg[0])\n",
        "        y = self.methodB(msg[0]) + self.y\n",
        "        x = y + self.methodB(msg, msg[0])\n",
        "        self.sum = x + y + msg[0].content\n",
        "        print(x, y, self.sum)\n",
        "    def methodB(self, *args):\n",
        "        if len(args) == 2:\n",
        "            mg2, mg1 = args\n",
        "            x = 2\n",
        "            self.y = self.y + mg2[0].content\n",
        "            mg2[0].content = self.y + mg1.content\n",
        "            x = x + 2 + mg1.content\n",
        "            self.sum = self.sum + x + self.y\n",
        "            mg1.content = self.sum - mg2[0].content\n",
        "            print(Quiz3.x, self.y, self.sum)\n",
        "            return self.sum\n",
        "        \n",
        "        elif len(args) == 1:\n",
        "            mg1, = args\n",
        "            x = 1\n",
        "            y = 2\n",
        "            y = self.sum + mg1.content\n",
        "            self.y = y + mg1.content\n",
        "            x = Quiz3.x + 5 + mg1.content\n",
        "            self.sum = self.sum + x + y\n",
        "            Quiz3.x = mg1.content + x + 3\n",
        "            print(x, y, self.sum)\n",
        "            return y\n",
        "\n",
        "a1 = Quiz3()\n",
        "a2 = Quiz3(5)\n",
        "msg = msgClass()\n",
        "a1.methodA()\n",
        "a2.methodB(msg)\n"
      ],
      "metadata": {
        "id": "rqSrHqXqyf-W",
        "outputId": "6d22f393-1a93-411d-e06c-eb3577c6dbe3",
        "colab": {
          "base_uri": "https://localhost:8080/"
        }
      },
      "execution_count": null,
      "outputs": [
        {
          "output_type": "stream",
          "name": "stdout",
          "text": [
            "15 11 31\n",
            "35 37 103\n",
            "44 49 211\n",
            "291 80 527\n",
            "49 5 59\n"
          ]
        },
        {
          "output_type": "execute_result",
          "data": {
            "text/plain": [
              "5"
            ]
          },
          "metadata": {},
          "execution_count": 27
        }
      ]
    }
  ]
}