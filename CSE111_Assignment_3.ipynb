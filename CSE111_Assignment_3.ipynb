{
  "nbformat": 4,
  "nbformat_minor": 0,
  "metadata": {
    "colab": {
      "provenance": []
    },
    "kernelspec": {
      "name": "python3",
      "display_name": "Python 3"
    },
    "language_info": {
      "name": "python"
    }
  },
  "cells": [
    {
      "cell_type": "code",
      "source": [
        "#task-1\n",
        "class Calculator:\n",
        "  def __init__(self):\n",
        "     \n",
        "    print(\"Let's Calculate!\")\n",
        "  def add(self,n1,n2):\n",
        "    ans=n1+n2\n",
        "    print(ans)\n",
        "  def substract(self,n1,n2):\n",
        "    ans=n1-n2\n",
        "    print(ans)\n",
        "  def multiply(self,n1,n2):\n",
        "    ans=n1*n2\n",
        "    print(ans)\n",
        "  def division(self,n1,n2):\n",
        "    ans=n1/n2\n",
        "    print(ans)\n",
        "n1=int(input())\n",
        "o=input()\n",
        "n2=int(input())\n",
        "c1=Calculator()\n",
        "if o==\"+\":\n",
        "  c1.add(n1,n2)\n",
        "if o==\"-\":\n",
        "  c1.substract(n1,n2)\n",
        "if o==\"*\":\n",
        "  c1.multiply(n1,n2)\n",
        "if o==\"/\":\n",
        "  c1.division(n1,n2)\n",
        "\n",
        "\n",
        "      \n",
        "\n"
      ],
      "metadata": {
        "id": "Ks1m0xfZ2Gwe",
        "colab": {
          "base_uri": "https://localhost:8080/"
        },
        "outputId": "45972c10-17e0-48b9-eb76-3926e5e44976"
      },
      "execution_count": null,
      "outputs": [
        {
          "output_type": "stream",
          "name": "stdout",
          "text": [
            "1\n",
            "+\n",
            "2\n",
            "Let's Calculate!\n",
            "3\n"
          ]
        }
      ]
    },
    {
      "cell_type": "code",
      "source": [
        "#task-2\n",
        "class Course():\n",
        "  def __init__(self,p,q,r):\n",
        "    self.course=p\n",
        "    self.faculty=q\n",
        "    self.sec=r\n",
        "  def detail(self):\n",
        "    print(self.course,\"-\",self.faculty,\"-\",self.sec)\n",
        "\n",
        "c1 = Course(\"CSE110\", \"TBA\", 8)\n",
        "c1.detail()\n",
        "print(\"===============\")\n",
        "c2 = Course(\"CSE111\", \"TBA\", 9)\n",
        "c2.detail()"
      ],
      "metadata": {
        "colab": {
          "base_uri": "https://localhost:8080/"
        },
        "id": "63xkWPAx2Iuc",
        "outputId": "490bcc1a-6ec5-410d-9f1d-087e3172acf1"
      },
      "execution_count": null,
      "outputs": [
        {
          "output_type": "stream",
          "name": "stdout",
          "text": [
            "CSE110 - TBA - 8\n",
            "===============\n",
            "CSE111 - TBA - 9\n"
          ]
        }
      ]
    },
    {
      "cell_type": "code",
      "source": [
        "#task-3\n",
        "class Patient():\n",
        "  def __init__(self,p,q,r,s):\n",
        "    self.name=p\n",
        "    self.age=q\n",
        "    self.weight=r\n",
        "    self.height=s\n",
        "    self.bmi=r/((s/100)*(s/100))\n",
        "  def printDetails(self):\n",
        "    print(\"Name:\",self.name)\n",
        "    print(\"Age:\",self.age)\n",
        "    print(\"Weight:\",self.weight)\n",
        "    print(\"Height:\",self.height)\n",
        "    print(\"BMI:\",self.bmi)\n",
        "\n",
        "p1 = Patient(\"A\", 55, 63.0, 158.0)\n",
        "p1.printDetails()\n",
        "print(\"====================\")\n",
        "p2 = Patient(\"B\", 53, 61.0, 149.0)\n",
        "p2.printDetails()"
      ],
      "metadata": {
        "colab": {
          "base_uri": "https://localhost:8080/"
        },
        "id": "rn3nAHmATJga",
        "outputId": "a642953c-389f-4318-e68a-604e3fa4093a"
      },
      "execution_count": null,
      "outputs": [
        {
          "output_type": "stream",
          "name": "stdout",
          "text": [
            "Name: A\n",
            "Age: 55\n",
            "Weight: 63.0\n",
            "Height: 158.0\n",
            "BMI: 25.236340330075304\n",
            "====================\n",
            "Name: B\n",
            "Age: 53\n",
            "Weight: 61.0\n",
            "Height: 149.0\n",
            "BMI: 27.476239809017613\n"
          ]
        }
      ]
    },
    {
      "cell_type": "code",
      "source": [
        "#task-4\n",
        "class Vehicle:\n",
        "  def __init__(self):\n",
        "    self.x=0    # default value set kore dichchi parameter na niye\n",
        "    self.y=0    #instance variable\n",
        "  def moveUp(self):\n",
        "    self.y=self.y+1\n",
        "  def moveDown(self):\n",
        "    self.y=self.y-1\n",
        "  def moveRight(self):\n",
        "    self.x=self.x+1\n",
        "  def moveLeft(self):\n",
        "    self.x=self.x-1\n",
        "  def print_position(self):\n",
        "    print(\"(\",self.x,\",\",self.y,\")\")\n",
        "  \n",
        "\n",
        "car = Vehicle()\n",
        "car.print_position()\n",
        "car.moveUp()\n",
        "car.print_position()\n",
        "car.moveLeft()\n",
        "car.print_position()\n",
        "car.moveDown()\n",
        "car.print_position()\n",
        "car.moveRight()"
      ],
      "metadata": {
        "colab": {
          "base_uri": "https://localhost:8080/"
        },
        "id": "aR-y7vBfVabS",
        "outputId": "a612d5b4-20bf-4f37-cc9f-48c2b50983fa"
      },
      "execution_count": null,
      "outputs": [
        {
          "output_type": "stream",
          "name": "stdout",
          "text": [
            "( 0 , 0 )\n",
            "( 0 , 1 )\n",
            "( -1 , 1 )\n",
            "( -1 , 0 )\n"
          ]
        }
      ]
    },
    {
      "cell_type": "code",
      "source": [
        "#task-5\n",
        "class Shape():\n",
        "  def __init__(self,name,d1,d2):\n",
        "    self.name=name\n",
        "    self.dimention1=d1\n",
        "    self.dimention2=d2\n",
        "  def area(self):\n",
        "    if self.name==\"Triangle\" or self.name==\"Rhombus\":\n",
        "      area=.5*self.dimention1*self.dimention2\n",
        "    elif self.name==\"Square\" or self.name==\"Rectangle\":\n",
        "      area=self.dimention1*self.dimention2\n",
        "    else:\n",
        "      area=\"Unknown Shape\"\n",
        "    print('Area:',area)\n",
        "\n",
        "triangle = Shape(\"Triangle\",10,25)\n",
        "triangle.area()\n",
        "print(\"==========================\")\n",
        "square = Shape(\"Square\",10,10)\n",
        "square.area()\n",
        "print(\"==========================\")\n",
        "rhombus = Shape(\"Rhombus\",18,25)\n",
        "rhombus.area()\n",
        "print(\"==========================\")\n",
        "rectangle = Shape(\"Rectangle\",15,30)\n",
        "rectangle.area()\n",
        "print(\"==========================\")\n",
        "trapezium = Shape(\"Trapezium\",15,30)\n",
        "trapezium.area()\n",
        "    "
      ],
      "metadata": {
        "id": "S6sVmX0RJbBi",
        "colab": {
          "base_uri": "https://localhost:8080/"
        },
        "outputId": "edb3a282-7285-41ac-f44d-22df313446ad"
      },
      "execution_count": null,
      "outputs": [
        {
          "output_type": "stream",
          "name": "stdout",
          "text": [
            "Area: 125.0\n",
            "==========================\n",
            "Area: 100\n",
            "==========================\n",
            "Area: 225.0\n",
            "==========================\n",
            "Area: 450\n",
            "==========================\n",
            "Area: Unknown Shape\n"
          ]
        }
      ]
    },
    {
      "cell_type": "code",
      "source": [
        "#task-6\n",
        "class Calculator:\n",
        "  def __init__(self):\n",
        "    print(\"Calculator is ready\")\n",
        "  def calculate(self,n1,n2,o):\n",
        "    self.num1=n1\n",
        "    self.num2=n2\n",
        "    self.op=o\n",
        "    if self.op==\"+\":\n",
        "      val=self.num1+self.num2\n",
        "\n",
        "    if self.op==\"-\":\n",
        "      val=self.num1-self.num2\n",
        "    if self.op==\"*\":\n",
        "      val=self.num1*self.num2\n",
        "    if self.op==\"/\":\n",
        "      val=self.num1/self.num2\n",
        "    return val\n",
        "  def showCalculation(self):\n",
        "    if self.op==\"+\":\n",
        "      print(self.num1,\"+\",self.num2,\"=\",val)\n",
        "    elif self.op==\"-\":\n",
        "      print(self.num1,\"-\",self.num2,\"=\",val)\n",
        "    elif self.op==\"*\":\n",
        "      print(self.num1,\"*\",self.num2,\"=\",val)\n",
        "    elif self.op==\"/\":\n",
        "      print(self.num1,\"/\",self.num2,\"=\",val)\n",
        "\n",
        "\n",
        "\n",
        "c1 = Calculator()\n",
        "print(\"==================\")\n",
        "val = c1.calculate(10, 20, '+')  #print diye function call kori nai tai kichchu return korte hobe\n",
        "print(\"Returned value:\", val)\n",
        "c1.showCalculation()\n",
        "print(\"==================\")\n",
        "val = c1.calculate(val, 10, '-')\n",
        "print(\"Returned value:\", val)\n",
        "c1.showCalculation()\n",
        "print(\"==================\")\n",
        "val = c1.calculate(val, 5, '*')\n",
        "print(\"Returned value:\", val)\n",
        "c1.showCalculation()\n",
        "print(\"==================\")\n",
        "val = c1.calculate(val, 16, '/')\n",
        "print(\"Returned value:\", val)\n",
        "c1.showCalculation()\n"
      ],
      "metadata": {
        "colab": {
          "base_uri": "https://localhost:8080/"
        },
        "id": "uTzFK4R9UhHx",
        "outputId": "4a67c30a-4208-46ca-d071-210650d0b852"
      },
      "execution_count": null,
      "outputs": [
        {
          "output_type": "stream",
          "name": "stdout",
          "text": [
            "Calculator is ready\n",
            "==================\n",
            "Returned value: 30\n",
            "10 + 20 = 30\n",
            "==================\n",
            "Returned value: 20\n",
            "30 - 10 = 20\n",
            "==================\n",
            "Returned value: 100\n",
            "20 * 5 = 100\n",
            "==================\n",
            "Returned value: 6.25\n",
            "100 / 16 = 6.25\n"
          ]
        }
      ]
    },
    {
      "cell_type": "code",
      "source": [
        "#task-7\n",
        "class Student:\n",
        "  def __init__(self,name,id,dept,cg_list):\n",
        "    self.name=name\n",
        "    self.id=id\n",
        "    self.dept=dept\n",
        "    self.cg=cg_list\n",
        "  def calculate_CGPA(self):\n",
        "    self.cgpa=0\n",
        "    credit=3\n",
        "    total=0\n",
        "    count=0\n",
        "    for num in self.cg:\n",
        "      total+=num\n",
        "      count+=1\n",
        "    self.cgpa=(total*credit)/(count*credit)\n",
        "    #return cgpa\n",
        "  def print_details(self):\n",
        "    print(\"Name:\",self.name,\",\",\"ID:\",self.id)\n",
        "    print('Department:',self.dept)\n",
        "    print(\"CGPA:\",self.cgpa)\n",
        "    if self.cgpa>3.80:\n",
        "       print(\"Your academic standing is'Highest Distinction'.\")\n",
        "    elif self.cgpa>3.65: \n",
        "      print(\"Your academic standing is'High Distinction'.\")\n",
        "    elif self.cgpa>3.50:\n",
        "       print(\"Your academic standing is'Distinction'.\")\n",
        "    elif self.cgpa>2.00:\n",
        "       print(\"Your academic standing is'Satisfactory'.\")\n",
        "    elif self.cgpa<2.00:\n",
        "       print(\"Sorry, you cannot graduate.\")\n",
        "\n",
        "\n",
        "s1 = Student('Dora', '15995599','CSE', [4,3.7,3.7,4])\n",
        "s1.calculate_CGPA()\n",
        "print(\"==========================\")\n",
        "s1.print_details()\n",
        "print(\"==========================\")\n",
        "s2 = Student('Pingu', '12312322', 'EEE', [1.7,1.3,1.3,1.3,1])\n",
        "s2.calculate_CGPA()\n",
        "print(\"==========================\")\n",
        "s2.print_details()\n",
        "print(\"==========================\")\n",
        "s3 = Student('Bob', '13311331', 'CSE', [2,3,3,3.7,2.7,2.7])\n",
        "s3.calculate_CGPA()\n",
        "print(\"==========================\")\n",
        "s3.print_details()"
      ],
      "metadata": {
        "colab": {
          "base_uri": "https://localhost:8080/"
        },
        "id": "8KaR4piGouSI",
        "outputId": "ea8cd2f2-133f-492a-88bf-c0a8aab85cb8"
      },
      "execution_count": null,
      "outputs": [
        {
          "output_type": "stream",
          "name": "stdout",
          "text": [
            "==========================\n",
            "Name: Dora , ID: 15995599\n",
            "Department: CSE\n",
            "CGPA: 3.85\n",
            "Your academic standing is'Highest Distinction'.\n",
            "==========================\n",
            "==========================\n",
            "Name: Pingu , ID: 12312322\n",
            "Department: EEE\n",
            "CGPA: 1.3199999999999998\n",
            "Sorry, you cannot graduate.\n",
            "==========================\n",
            "==========================\n",
            "Name: Bob , ID: 13311331\n",
            "Department: CSE\n",
            "CGPA: 2.8499999999999996\n",
            "Your academic standing is'Satisfactory'.\n"
          ]
        }
      ]
    },
    {
      "cell_type": "code",
      "source": [
        "#task-8\n",
        "class Shinobi:\n",
        "  def __init__(self,n,r):\n",
        "    self.name=n\n",
        "    self.rank=r\n",
        "    self.salary=0\n",
        "    self.mission=0\n",
        "  def changeRank(self,r2):\n",
        "    self.rank=r2\n",
        "  def calSalary(self,m):\n",
        "    self.mission=m\n",
        "    if self.rank==\"Genin\":\n",
        "      self.salary=self.mission*50\n",
        "    elif self.rank==\"Chunin\":\n",
        "      self.salary=self.mission*100\n",
        "    else:\n",
        "      self.salary=self.mission*500\n",
        "  def printInfo(self):\n",
        "    print(\"Name:\",self.name)\n",
        "    print(\"Rank:\",self.rank)\n",
        "    print(\"Number of mission:\",self.mission)\n",
        "    print(\"Salary:\",self.salary)\n",
        "\n",
        "naruto = Shinobi(\"Naruto\", \"Genin\")\n",
        "naruto.calSalary(5)\n",
        "naruto.printInfo()\n",
        "print('====================')\n",
        "shikamaru = Shinobi('Shikamaru', \"Genin\")\n",
        "shikamaru.printInfo()\n",
        "shikamaru.changeRank(\"Chunin\")\n",
        "shikamaru.calSalary(10)\n",
        "shikamaru.printInfo()\n",
        "print('====================')\n",
        "neiji = Shinobi(\"Neiji\", \"Jonin\")\n",
        "neiji.calSalary(5)\n",
        "neiji.printInfo()"
      ],
      "metadata": {
        "colab": {
          "base_uri": "https://localhost:8080/"
        },
        "id": "o73IhGxZuCAZ",
        "outputId": "389572f2-3171-4cc6-cce0-e6c69c0a63e3"
      },
      "execution_count": null,
      "outputs": [
        {
          "output_type": "stream",
          "name": "stdout",
          "text": [
            "Name: Naruto\n",
            "Rank: Genin\n",
            "Number of mission: 5\n",
            "Salary: 250\n",
            "====================\n",
            "Name: Shikamaru\n",
            "Rank: Genin\n",
            "Number of mission: 0\n",
            "Salary: 0\n",
            "Name: Shikamaru\n",
            "Rank: Chunin\n",
            "Number of mission: 10\n",
            "Salary: 1000\n",
            "====================\n",
            "Name: Neiji\n",
            "Rank: Jonin\n",
            "Number of mission: 5\n",
            "Salary: 2500\n"
          ]
        }
      ]
    },
    {
      "cell_type": "code",
      "source": [
        "#task-9\n",
        "class Programmer:\n",
        "  def __init__(self,n,l,e):\n",
        "    self.name=n\n",
        "    self.language=l\n",
        "    self.experience=e\n",
        "  def addExp(self,e2):\n",
        "    print(\"Updating experience of\",self.name)\n",
        "    self.experience+=e2\n",
        "  def printDetails(self):\n",
        "    print(\"Horray! A new programmer is born\")\n",
        "    print(\"Name:\",self.name)\n",
        "    print(\"Language:\",self.language)\n",
        "    print(\"Experience:\",self.experience)\n",
        "\n",
        "p1 = Programmer(\"Ethen Hunt\", \"Java\", 10)\n",
        "p1.printDetails()\n",
        "print('--------------------------')\n",
        "p2 = Programmer(\"James Bond\", \"C++\", 7)\n",
        "p2.printDetails()\n",
        "print('--------------------------')\n",
        "p3 = Programmer(\"Jon Snow\", \"Python\", 4)\n",
        "p3.printDetails()\n",
        "p3.addExp(5)\n",
        "p3.printDetails()"
      ],
      "metadata": {
        "colab": {
          "base_uri": "https://localhost:8080/"
        },
        "id": "IQ1OniTcExqC",
        "outputId": "d39dfd9d-22a9-4f86-993e-f0efb53f5d5f"
      },
      "execution_count": null,
      "outputs": [
        {
          "output_type": "stream",
          "name": "stdout",
          "text": [
            "Horray! A new programmer is born\n",
            "Name: Ethen Hunt\n",
            "Language: Java\n",
            "Experience: 10\n",
            "--------------------------\n",
            "Horray! A new programmer is born\n",
            "Name: James Bond\n",
            "Language: C++\n",
            "Experience: 7\n",
            "--------------------------\n",
            "Horray! A new programmer is born\n",
            "Name: Jon Snow\n",
            "Language: Python\n",
            "Experience: 4\n",
            "Updating experience of Jon Snow\n",
            "Horray! A new programmer is born\n",
            "Name: Jon Snow\n",
            "Language: Python\n",
            "Experience: 9\n"
          ]
        }
      ]
    },
    {
      "cell_type": "code",
      "source": [
        "#task-10\n",
        "class UberEats:\n",
        "  def __init__(self,n,num,d):\n",
        "    self.name=n\n",
        "    self.number=num\n",
        "    self.delivery=d\n",
        "    print(self.name+\", welcome to UberEats.\")\n",
        "  def add_items(self,i1,i2,p1,p2):\n",
        "    self.item1=i1\n",
        "    self.item2=i2\n",
        "    self.price1=p1\n",
        "    self.price2=p2\n",
        "  def print_order_detail(self):\n",
        "    dict1={}\n",
        "    total=0\n",
        "    dict1[self.item1]=self.price1\n",
        "    dict1[self.item2]=self.price2\n",
        "    total=self.price1+self.price2\n",
        "    return f'User Details: Name:,{self.name}, Phone: {self.number} , Address: {self.delivery}\\nOrders: {dict1}\\nTotal paid amount: {total}'\n",
        "    \n",
        "\n",
        "order1 = UberEats(\"Shakib\", \"01719658xxx\", \"Mohakhali\")\n",
        "print(\"=========================\")\n",
        "order1.add_items(\"Burger\", \"Coca Cola\", 220, 50)\n",
        "print(\"=========================\")\n",
        "print(order1.print_order_detail())\n",
        "print(\"=========================\")\n",
        "order2 = UberEats (\"Siam\", \"01719659xxx\", \"Uttara\")\n",
        "print(\"=========================\")\n",
        "order2.add_items(\"Pineapple\", \"Dairy Milk\", 80, 70)\n",
        "print(\"=========================\")\n",
        "print(order2.print_order_detail())"
      ],
      "metadata": {
        "colab": {
          "base_uri": "https://localhost:8080/"
        },
        "id": "sA429LW3GmDm",
        "outputId": "50eb2ffb-4bc8-4cf9-ae7e-3d8848038321"
      },
      "execution_count": null,
      "outputs": [
        {
          "output_type": "stream",
          "name": "stdout",
          "text": [
            "Shakib, welcome to UberEats.\n",
            "=========================\n",
            "=========================\n",
            "User Details: Name:,Shakib, Phone: 01719658xxx , Address: Mohakhali\n",
            "Orders: {'Burger': 220, 'Coca Cola': 50}\n",
            "Total paid amount: 270\n",
            "=========================\n",
            "Siam, welcome to UberEats.\n",
            "=========================\n",
            "=========================\n",
            "User Details: Name:,Siam, Phone: 01719659xxx , Address: Uttara\n",
            "Orders: {'Pineapple': 80, 'Dairy Milk': 70}\n",
            "Total paid amount: 150\n"
          ]
        }
      ]
    },
    {
      "cell_type": "code",
      "source": [
        "#task=11\n",
        "class Spotify:\n",
        "  def __init__(self,list1):\n",
        "    self.list1=list1\n",
        "    #self.song=list1[0]\n",
        "    # self.song2=list1[1]\n",
        "    # self.song3=list1[2]\n",
        "    print(\"Welcome to sportify!\")\n",
        "  def add_to_playlist(self,s):\n",
        "    self.song=s\n",
        "    self.list1.append(self.song)\n",
        "    \n",
        "  def playing_number(self,s_no):\n",
        "    self.song_no=s_no\n",
        "    if self.song_no>len(self.list1):\n",
        "      return f'{self.song_no} number song not found.\\nYour playlist has {(len(self.list1))} songs only.'\n",
        "    else:\n",
        "      return f'######################\\nPlaying {self.song_no} number song for you.\\nSong name: {self.list1[self.song_no-1]}'\n",
        "    \n",
        "  \n",
        "\n",
        "\n",
        "user1 = Spotify([\"See You Again\", \"Uptown Funk\", \"Hello\"])\n",
        "print(\"=========================\")\n",
        "print(user1.playing_number(4))\n",
        "user1.add_to_playlist(\"Dusk Till Dawn\")\n",
        "print(user1.playing_number(3))\n",
        "print(user1.playing_number(4))"
      ],
      "metadata": {
        "colab": {
          "base_uri": "https://localhost:8080/"
        },
        "id": "xsgPtXDJ7Qna",
        "outputId": "5f86db98-25b6-416a-c5db-bf63f3f19819"
      },
      "execution_count": null,
      "outputs": [
        {
          "output_type": "stream",
          "name": "stdout",
          "text": [
            "Welcome to sportify!\n",
            "=========================\n",
            "4 number song not found.\n",
            "Your playlist has 3 songs only.\n",
            "######################\n",
            "Playing 3 number song for you.\n",
            "Song name: Hello\n",
            "######################\n",
            "Playing 4 number song for you.\n",
            "Song name: Dusk Till Dawn\n"
          ]
        }
      ]
    },
    {
      "cell_type": "code",
      "source": [
        "#task-12\n",
        "class Test:\n",
        "   def __init__(self):\n",
        "     self.sum = 0\n",
        "     self.y = 0\n",
        "   def methodA(self):\n",
        "     x=0\n",
        "     y=0\n",
        "     y = y + 7\n",
        "     x = y + 11\n",
        "     self.sum = x + y\n",
        "     print(x , y, self.sum)\n",
        "   def methodB(self):\n",
        "     x = 0\n",
        "     self.y = self.y + 11\n",
        "     x = x + 33 + self.y\n",
        "     self.sum = self.sum + x + self.y\n",
        "     print(x , self.y, self.sum)\n",
        "t1 = Test()\n",
        "t1.methodA()\n",
        "t1.methodA()\n",
        "t1.methodB()\n",
        "t1.methodB()\n"
      ],
      "metadata": {
        "colab": {
          "base_uri": "https://localhost:8080/"
        },
        "id": "d5O_ESL-GRNU",
        "outputId": "ecd8e6b3-1184-4b81-d8a4-842b9aaba316"
      },
      "execution_count": null,
      "outputs": [
        {
          "output_type": "stream",
          "name": "stdout",
          "text": [
            "18 7 25\n",
            "18 7 25\n",
            "44 11 80\n",
            "55 22 157\n"
          ]
        }
      ]
    },
    {
      "cell_type": "code",
      "source": [
        "#task-13\n",
        "class Scope:\n",
        "   def __init__(self):\n",
        "     self.x, self.y = 1, 100\n",
        "   def met1(self):\n",
        "     x = 3\n",
        "     x = self.x + 1\n",
        "     self.y = self.y + self.x + 1\n",
        "     x = self.y + self.met2() + self.y\n",
        "     print(x, self.y)\n",
        "   def met2(self):\n",
        "     y = 0\n",
        "     print(self.x, y)\n",
        "     self.x = self.x + y\n",
        "     self.y = self.y + 200\n",
        "     return self.x + y\n",
        "q2 = Scope()\n",
        "q2.met1()\n",
        "q2.met2()\n",
        "q2.met1()\n",
        "q2.met2()"
      ],
      "metadata": {
        "colab": {
          "base_uri": "https://localhost:8080/"
        },
        "id": "mwpandWp6h_o",
        "outputId": "5f341124-8a5e-4d75-f9be-fee50e856dbe"
      },
      "execution_count": null,
      "outputs": [
        {
          "output_type": "stream",
          "name": "stdout",
          "text": [
            "1 0\n",
            "405 302\n",
            "1 0\n",
            "1 0\n",
            "1209 704\n",
            "1 0\n"
          ]
        },
        {
          "output_type": "execute_result",
          "data": {
            "text/plain": [
              "1"
            ]
          },
          "metadata": {},
          "execution_count": 3
        }
      ]
    },
    {
      "cell_type": "code",
      "source": [
        "#task-14\n",
        "class Test3:\n",
        "  def __init__(self):\n",
        "    self.sum, self.y = 0, 0\n",
        "  def methodA(self):\n",
        "    x, y = 2, 3\n",
        "    msg = [0]\n",
        "    msg[0] = 3\n",
        "    y = self.y + msg[0]\n",
        "    self.methodB(msg, msg[0])\n",
        "    x = self.y + msg[0]\n",
        "    self.sum = x + y + msg[0]\n",
        "    print(x, y, self.sum)\n",
        "  def methodB(self, mg2, mg1):\n",
        "    x = 0\n",
        "    self.y = self.y + mg2[0]\n",
        "    x = x + 33 + mg1\n",
        "    self.sum = self.sum + x + self.y\n",
        "    mg2[0] = self.y + mg1\n",
        "    mg1 = mg1 + x + 2\n",
        "    print(x, self.y, self.sum)\n",
        "t3 = Test3()\n",
        "t3.methodA()\n",
        "t3.methodA()\n",
        "t3.methodA()\n",
        "t3.methodA()"
      ],
      "metadata": {
        "colab": {
          "base_uri": "https://localhost:8080/"
        },
        "id": "Rw2Zf2J_M8IO",
        "outputId": "ff070c81-4e66-4964-e125-e468fb7c6e94"
      },
      "execution_count": null,
      "outputs": [
        {
          "output_type": "stream",
          "name": "stdout",
          "text": [
            "36 3 39\n",
            "9 3 18\n",
            "36 6 60\n",
            "15 6 30\n",
            "36 9 75\n",
            "21 9 42\n",
            "36 12 90\n",
            "27 12 54\n"
          ]
        }
      ]
    },
    {
      "cell_type": "code",
      "source": [
        "#task-15\n",
        "\n",
        "class Test5:\n",
        "  def __init__(self):\n",
        "    self.sum, self.y = 0, 0\n",
        "  def methodA(self): \n",
        "    x = 0\n",
        "    z = 0\n",
        "    while (z < 5):\n",
        "      self.y = self.y + self.sum\n",
        "      x = self.y + 1\n",
        "      print(x, self.y, self.sum)\n",
        "      self.sum = self.sum + self.methodB(x, self.y)\n",
        "      z += 1\n",
        "  def methodB(self, m, n):\n",
        "    x = 0\n",
        "    sum = 0\n",
        "    self.y = self.y + m\n",
        "    x = n - 4\n",
        "    sum = sum + self.y\n",
        "    print(x, self.y, sum)\n",
        "    return self.sum\n",
        "t5 = Test5()\n",
        "t5.methodA()\n"
      ],
      "metadata": {
        "colab": {
          "base_uri": "https://localhost:8080/"
        },
        "id": "PwJMx1JFW-Rk",
        "outputId": "4e3c5fb8-596e-4f3c-a45b-5c5c3689db38"
      },
      "execution_count": null,
      "outputs": [
        {
          "output_type": "stream",
          "name": "stdout",
          "text": [
            "1 0 0\n",
            "-4 1 1\n",
            "2 1 0\n",
            "-3 3 3\n",
            "4 3 0\n",
            "-1 7 7\n",
            "8 7 0\n",
            "3 15 15\n",
            "16 15 0\n",
            "11 31 31\n"
          ]
        }
      ]
    }
  ]
}