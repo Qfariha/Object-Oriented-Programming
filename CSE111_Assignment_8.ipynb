{
  "nbformat": 4,
  "nbformat_minor": 0,
  "metadata": {
    "colab": {
      "provenance": []
    },
    "kernelspec": {
      "name": "python3",
      "display_name": "Python 3"
    },
    "language_info": {
      "name": "python"
    }
  },
  "cells": [
    {
      "cell_type": "code",
      "execution_count": null,
      "metadata": {
        "colab": {
          "base_uri": "https://localhost:8080/"
        },
        "id": "r6gKsH6kSPTU",
        "outputId": "ea762586-7ff7-48a7-baf8-490302f22cb1"
      },
      "outputs": [
        {
          "output_type": "stream",
          "name": "stdout",
          "text": [
            "26 -2 5\n",
            "3 -10 4\n",
            "-5 6 5\n",
            "10 -4 5\n"
          ]
        }
      ],
      "source": [
        "#task-13\n",
        "\n",
        "class A:\n",
        "  temp = 3\n",
        "  def __init__(self):\n",
        "    self.sum = 0\n",
        "    self.y = 0\n",
        "    self.y = A.temp - 1\n",
        "    self.sum = A.temp + 2\n",
        "    A.temp -= 2\n",
        "  \n",
        "  def methodA(self, m, n):\n",
        "    x = 0\n",
        "    n[0] += 1\n",
        "    self.y = self.y + m + A.temp\n",
        "    A.temp += 1\n",
        "    x = x + 2 + n[0]\n",
        "    n[0] = self.sum + 2\n",
        "    print(f\"{x} {self.y} {self.sum}\")\n",
        " \n",
        "class B(A):\n",
        "  x = 1\n",
        "  def __init__(self, b = None):\n",
        "    super().__init__()\n",
        "    self.sum = 2\n",
        "    if b == None:  \n",
        "      self.y = self.temp + 1    \n",
        "      B.x = 3 + A.temp + self.x\n",
        "      A.temp -= 2\n",
        "    else:\n",
        "      self.sum = self.sum + self.sum\n",
        "      B.x = b.x + self.x\n",
        "  def methodB(self, m, n):\n",
        "    y = [0]\n",
        "    self.y = y[0] + self.y + m\n",
        "    B.x = self.y + 2 +  self.temp - n\n",
        "    self.methodA(self.x, y)\n",
        "    self.sum = self.x + y[0] + self.sum\n",
        "    print(f\"{self.x} {y[0]} {self.sum}\")\n",
        "\n",
        "x = [23]\n",
        "a1 = A()\n",
        "b1 = B()\n",
        "b2 = B(b1)\n",
        "a1.methodA(1, x)\n",
        "b2.methodB(3, 2)\n",
        "a1.methodA(1, x)"
      ]
    },
    {
      "cell_type": "code",
      "source": [
        "#task-12\n",
        "\n",
        "class A:\n",
        "    temp = 4\n",
        "    def __init__(self):\n",
        "        self.sum = 0\n",
        "        self.y = 0\n",
        "        self.y = A.temp - 2\n",
        "        self.sum = A.temp + 1\n",
        "        A.temp -= 2\n",
        "    def methodA(self, m,  n):\n",
        "        x = 0\n",
        "        self.y = self.y + m + (A.temp)\n",
        "        A.temp += 1\n",
        "        x = x + 1 + n\n",
        "        self.sum = self.sum + x + self.y\n",
        "        print(x, self.y, self.sum)\n",
        " \n",
        "class B(A):\n",
        "    x = 0\n",
        "    def __init__(self,b=None):\n",
        "        super().__init__()\n",
        "        self.sum = 0\n",
        "        if b==None:\n",
        "            self.y = A.temp + 3\n",
        "            self.sum = 3 + A.temp + 2\n",
        "            A.temp -= 2\n",
        "        else:\n",
        "            self.sum = b.sum\n",
        "            B.x = b.x\n",
        "            b.methodB(2, 3)\n",
        "    def methodB(self, m,  n):\n",
        "        y = 0\n",
        "        y = y + self.y\n",
        "        B.x = self.y + 2 + A.temp\n",
        "        self.methodA(B.x, y)\n",
        "        self.sum = B.x + y + self.sum\n",
        "        print(B.x, y, self.sum)\n",
        "\n",
        "a1 = A()\n",
        "b1 = B()\n",
        "b2 = B(b1)\n",
        "b1.methodA(1, 2)\n",
        "b2.methodB(3, 2)"
      ],
      "metadata": {
        "colab": {
          "base_uri": "https://localhost:8080/"
        },
        "id": "hqZYEUXgIUnE",
        "outputId": "e66a96f0-f895-4e6e-c676-1f0ba7420f12"
      },
      "execution_count": null,
      "outputs": [
        {
          "output_type": "stream",
          "name": "stdout",
          "text": [
            "4 0 9\n",
            "1 3 13\n",
            "3 -2 14\n",
            "-3 -10 -8\n",
            "-4 -4 -16\n"
          ]
        }
      ]
    },
    {
      "cell_type": "code",
      "source": [
        "#task-14\n",
        "class A:\n",
        "  temp = 7\n",
        "  def __init__(self):\n",
        "    self.sum, self.y = 0, 0\n",
        "    self.y = A.temp - 1\n",
        "    self.sum = A.temp + 2\n",
        "    A.temp -= 3\n",
        "  def methodA(self, m, n):\n",
        "    x = 4\n",
        "    n[0] += 1\n",
        "    self.y = self.y + m + A.temp\n",
        "    A.temp += 2\n",
        "    x = x + 3 + n[0]\n",
        "    n[0] = self.sum + 2\n",
        "    print(f\"{x} {self.y} {self.sum}\")\n",
        "  def get_A_sum(self):\n",
        "    return self.sum\n",
        "  def update_A_y(self, val):\n",
        "    self.y = val\n",
        "class B(A):\n",
        "  x = 2\n",
        "  def __init__(self, b = None):\n",
        "    super().__init__()\n",
        "    self.sum = 2\n",
        "    if b == None:  \n",
        "      self.y = self.temp + 1    \n",
        "      B.x = 4 + A.temp + self.x\n",
        "      A.temp -= 2\n",
        "    else:\n",
        "      self.sum = self.sum + self.get_A_sum()\n",
        "      B.x = b.x + self.x\n",
        "  def methodB(self, m, n):\n",
        "    y = [0]\n",
        "    self.update_A_y(y[0] + self.y + m)\n",
        "    B.x = self.y + 4 +  self.temp - n\n",
        "    self.methodA(self.x, y)\n",
        "    self.sum = self.x + y[0] + self.get_A_sum()\n",
        "    print(f\"{self.x} {y[0]} {self.sum}\")\n",
        "x = [32]\n",
        "a1 = A()\n",
        "b1 = B()\n",
        "b2 = B(b1)\n",
        "a1.methodA(2, x)\n",
        "b2.methodB(2, 3)\n",
        "a1.methodA(3, x)\n",
        "\n"
      ],
      "metadata": {
        "colab": {
          "base_uri": "https://localhost:8080/"
        },
        "id": "wjpjzLDTNHkr",
        "outputId": "bd4e6172-fd91-485c-ea39-473c77363d2f"
      },
      "execution_count": null,
      "outputs": [
        {
          "output_type": "stream",
          "name": "stdout",
          "text": [
            "40 4 9\n",
            "8 -3 4\n",
            "-1 6 9\n",
            "19 7 9\n"
          ]
        }
      ]
    },
    {
      "cell_type": "code",
      "source": [
        "#task-1\n",
        "class RealNumber:\n",
        "    \n",
        "    def __init__(self, r=0):\n",
        "        self.__realValue = r  \n",
        "    def getRealValue(self):\n",
        "        return self.__realValue\n",
        "    def setRealValue(self, r):\n",
        "        self.__realValue = r\n",
        "    def __str__(self):\n",
        "        return 'RealPart: '+str(self.getRealValue())    \n",
        "class ComplexNumber(RealNumber):\n",
        "  def __init__(self,r=1.0,i=1.0):\n",
        "    self.im=float(i)\n",
        "    super().setRealValue(float(r))\n",
        "    super().getRealValue()\n",
        "  def __str__(self):  \n",
        "    return (f'{super().__str__()} \\nImaginaryPart: {str(self.im)} ')\n",
        "\n",
        "\n",
        "cn1 = ComplexNumber()\n",
        "print(cn1)\n",
        "print('---------')\n",
        "cn2 = ComplexNumber(5,7)\n",
        "print(cn2)"
      ],
      "metadata": {
        "colab": {
          "base_uri": "https://localhost:8080/"
        },
        "id": "H9CiX3Xxjoyr",
        "outputId": "aeea3263-f03b-43f9-a8f9-b179305ddb30"
      },
      "execution_count": null,
      "outputs": [
        {
          "output_type": "stream",
          "name": "stdout",
          "text": [
            "RealPart: 1.0 \n",
            "ImaginaryPart: 1.0 \n",
            "---------\n",
            "RealPart: 5.0 \n",
            "ImaginaryPart: 7.0 \n"
          ]
        }
      ]
    },
    {
      "cell_type": "code",
      "source": [
        "#task-2\n",
        "class RealNumber:\n",
        "    def __init__(self, number=0):\n",
        "        self.number = number\n",
        "    def __add__(self, anotherRealNumber):\n",
        "        return self.number + anotherRealNumber.number\n",
        "    def __sub__(self, anotherRealNumber):\n",
        "        return self.number - anotherRealNumber.number\n",
        "    def __str__(self):\n",
        "        return str(self.number)\n",
        "class ComplexNumber(RealNumber):\n",
        "  def __init__(self,real,im):\n",
        "    if isinstance(real,RealNumber):\n",
        "      super().__init__(real.number)\n",
        "    \n",
        "    else:\n",
        "      super().__init__(real)\n",
        "    self.img=im\n",
        "      \n",
        "  def __str__(self):\n",
        "    return (f'{super().__str__(self.real)}+{self.img}i')\n",
        "  def __add__(self, other):\n",
        "    super().__add__(self.real)\n",
        "    super().__add__(self.img)\n",
        "\n",
        "  def __sub__(self, other):\n",
        "    super().__sub__(self.real)\n",
        "    super().__sub__(self.img)\n",
        "\n",
        "    \n",
        "r1 = RealNumber(3)\n",
        "r2 = RealNumber(5)\n",
        "print(r1+r2)\n",
        "cn1 = ComplexNumber(2, 1)\n",
        "print(cn1)\n",
        "cn2 = ComplexNumber(r1, 5)\n",
        "print(cn2)\n",
        "cn3 = cn1 + cn2\n",
        "print(cn3)\n",
        "cn4 = cn1 - cn2\n",
        "print(cn4)\n"
      ],
      "metadata": {
        "colab": {
          "base_uri": "https://localhost:8080/",
          "height": 373
        },
        "id": "WvyR4xBjsb6S",
        "outputId": "cd4f9e17-042b-4b90-c548-f936c4963fed"
      },
      "execution_count": null,
      "outputs": [
        {
          "output_type": "stream",
          "name": "stdout",
          "text": [
            "8\n"
          ]
        },
        {
          "output_type": "error",
          "ename": "AttributeError",
          "evalue": "ignored",
          "traceback": [
            "\u001b[0;31m---------------------------------------------------------------------------\u001b[0m",
            "\u001b[0;31mAttributeError\u001b[0m                            Traceback (most recent call last)",
            "\u001b[0;32m<ipython-input-26-d8a24e86ff51>\u001b[0m in \u001b[0;36m<module>\u001b[0;34m\u001b[0m\n\u001b[1;32m     33\u001b[0m \u001b[0mprint\u001b[0m\u001b[0;34m(\u001b[0m\u001b[0mr1\u001b[0m\u001b[0;34m+\u001b[0m\u001b[0mr2\u001b[0m\u001b[0;34m)\u001b[0m\u001b[0;34m\u001b[0m\u001b[0;34m\u001b[0m\u001b[0m\n\u001b[1;32m     34\u001b[0m \u001b[0mcn1\u001b[0m \u001b[0;34m=\u001b[0m \u001b[0mComplexNumber\u001b[0m\u001b[0;34m(\u001b[0m\u001b[0;36m2\u001b[0m\u001b[0;34m,\u001b[0m \u001b[0;36m1\u001b[0m\u001b[0;34m)\u001b[0m\u001b[0;34m\u001b[0m\u001b[0;34m\u001b[0m\u001b[0m\n\u001b[0;32m---> 35\u001b[0;31m \u001b[0mprint\u001b[0m\u001b[0;34m(\u001b[0m\u001b[0mcn1\u001b[0m\u001b[0;34m)\u001b[0m\u001b[0;34m\u001b[0m\u001b[0;34m\u001b[0m\u001b[0m\n\u001b[0m\u001b[1;32m     36\u001b[0m \u001b[0mcn2\u001b[0m \u001b[0;34m=\u001b[0m \u001b[0mComplexNumber\u001b[0m\u001b[0;34m(\u001b[0m\u001b[0mr1\u001b[0m\u001b[0;34m,\u001b[0m \u001b[0;36m5\u001b[0m\u001b[0;34m)\u001b[0m\u001b[0;34m\u001b[0m\u001b[0;34m\u001b[0m\u001b[0m\n\u001b[1;32m     37\u001b[0m \u001b[0mprint\u001b[0m\u001b[0;34m(\u001b[0m\u001b[0mcn2\u001b[0m\u001b[0;34m)\u001b[0m\u001b[0;34m\u001b[0m\u001b[0;34m\u001b[0m\u001b[0m\n",
            "\u001b[0;32m<ipython-input-26-d8a24e86ff51>\u001b[0m in \u001b[0;36m__str__\u001b[0;34m(self)\u001b[0m\n\u001b[1;32m     19\u001b[0m \u001b[0;34m\u001b[0m\u001b[0m\n\u001b[1;32m     20\u001b[0m   \u001b[0;32mdef\u001b[0m \u001b[0m__str__\u001b[0m\u001b[0;34m(\u001b[0m\u001b[0mself\u001b[0m\u001b[0;34m)\u001b[0m\u001b[0;34m:\u001b[0m\u001b[0;34m\u001b[0m\u001b[0;34m\u001b[0m\u001b[0m\n\u001b[0;32m---> 21\u001b[0;31m     \u001b[0;32mreturn\u001b[0m \u001b[0;34m(\u001b[0m\u001b[0;34mf'{super().__str__(self.real)}+{self.img}i'\u001b[0m\u001b[0;34m)\u001b[0m\u001b[0;34m\u001b[0m\u001b[0;34m\u001b[0m\u001b[0m\n\u001b[0m\u001b[1;32m     22\u001b[0m   \u001b[0;32mdef\u001b[0m \u001b[0m__add__\u001b[0m\u001b[0;34m(\u001b[0m\u001b[0mself\u001b[0m\u001b[0;34m,\u001b[0m \u001b[0mother\u001b[0m\u001b[0;34m)\u001b[0m\u001b[0;34m:\u001b[0m\u001b[0;34m\u001b[0m\u001b[0;34m\u001b[0m\u001b[0m\n\u001b[1;32m     23\u001b[0m     \u001b[0msuper\u001b[0m\u001b[0;34m(\u001b[0m\u001b[0;34m)\u001b[0m\u001b[0;34m.\u001b[0m\u001b[0m__add__\u001b[0m\u001b[0;34m(\u001b[0m\u001b[0mself\u001b[0m\u001b[0;34m.\u001b[0m\u001b[0mreal\u001b[0m\u001b[0;34m)\u001b[0m\u001b[0;34m\u001b[0m\u001b[0;34m\u001b[0m\u001b[0m\n",
            "\u001b[0;31mAttributeError\u001b[0m: 'ComplexNumber' object has no attribute 'real'"
          ]
        }
      ]
    },
    {
      "cell_type": "code",
      "source": [],
      "metadata": {
        "id": "tKH-cH5_ezu9"
      },
      "execution_count": null,
      "outputs": []
    },
    {
      "cell_type": "code",
      "source": [
        "#task-3\n",
        "class Account: \n",
        "    def __init__(self, balance):\n",
        "        self._balance = balance\n",
        "        \n",
        "    def getBalance(self):\n",
        "        return self._balance\n",
        "\n",
        "class CheckingAccount(Account):\n",
        "  numberOfAccount=0\n",
        "  def __init__(self,b=0.0):\n",
        "    self.balance1=float(b)\n",
        "    super().__init__(b)\n",
        "    CheckingAccount.numberOfAccount+=1\n",
        "  def __str__(self):\n",
        "    return (f'Account Balance: {super().getBalance()}')\n",
        "    \n",
        "    \n",
        "\n",
        "    \n",
        "print('Number of Checking Accounts: ', CheckingAccount.numberOfAccount)\n",
        "print(CheckingAccount())\n",
        "print(CheckingAccount(100.00))\n",
        "print(CheckingAccount(200.00))\n",
        "print('Number of Checking Accounts: ', CheckingAccount.numberOfAccount)"
      ],
      "metadata": {
        "colab": {
          "base_uri": "https://localhost:8080/"
        },
        "id": "wURWgxCDwT_p",
        "outputId": "9afbd92d-6f30-400d-9c55-b5cbc844e017"
      },
      "execution_count": null,
      "outputs": [
        {
          "output_type": "stream",
          "name": "stdout",
          "text": [
            "Number of Checking Accounts:  0\n",
            "Account Balance: 0.0\n",
            "Account Balance: 100.0\n",
            "Account Balance: 200.0\n",
            "Number of Checking Accounts:  3\n"
          ]
        }
      ]
    },
    {
      "cell_type": "code",
      "source": [
        "#task-4\n",
        "\n",
        "class Fruit:\n",
        "    def __init__(self, formalin=False, name=''):\n",
        "        self.__formalin = formalin\n",
        "        self.name = name\n",
        "    \n",
        "    def getName(self):\n",
        "        return self.name\n",
        "    \n",
        "    def hasFormalin(self):\n",
        "        return self.__formalin\n",
        "    \n",
        "class testFruit:\n",
        "    def test(self, f):\n",
        "        print('----Printing Detail----')\n",
        "        if f.hasFormalin():\n",
        "            print('Do not eat the',f.getName(),'.')\n",
        "            print(f)\n",
        "        else:\n",
        "            print('Eat the',f.getName(),'.')\n",
        "            print(f)\n",
        "class Mango(Fruit):\n",
        "  def __init__(self):\n",
        "    self.__formalin=True\n",
        "    self.name='Mango'\n",
        "    super().__init__(self.__formalin,self.name)\n",
        "  # def getName(self):\n",
        "  #   super().getName()\n",
        "  # def hasFormalin(self):\n",
        "  #   super().hasFormalin()\n",
        "  def __str__(self):\n",
        "    return 'Mangos are bad for you'\n",
        "class Jackfruit(Fruit):\n",
        "  def __init__(self):\n",
        "    \n",
        "    super().__init__(False,'Jackfruit')\n",
        "  \n",
        "  def __str__(self):\n",
        "    return 'Jackfruits are good for you'\n",
        "\n",
        "\n",
        "m = Mango()\n",
        "j = Jackfruit()\n",
        "t1 = testFruit()\n",
        "t1.test(m)\n",
        "t1.test(j)\n",
        "\n"
      ],
      "metadata": {
        "colab": {
          "base_uri": "https://localhost:8080/"
        },
        "id": "lWYoVIil39gC",
        "outputId": "94a6ad17-b078-45e2-a822-56c96411aa6b"
      },
      "execution_count": null,
      "outputs": [
        {
          "output_type": "stream",
          "name": "stdout",
          "text": [
            "----Printing Detail----\n",
            "Do not eat the Mango .\n",
            "Mangos are bad for you\n",
            "----Printing Detail----\n",
            "Eat the Jackfruit .\n",
            "Jackfruits are good for you\n"
          ]
        }
      ]
    },
    {
      "cell_type": "code",
      "source": [
        "#task-5\n",
        "class Exam:\n",
        "    def __init__(self,marks):\n",
        "        self.marks = marks\n",
        "        self.time = 60\n",
        "        \n",
        "    def examSyllabus(self):\n",
        "        return \"Maths , English\"\n",
        "    def examParts(self):\n",
        "        return \"Part 1 - Maths\\nPart 2 - English\\n\"\n",
        "    \n",
        "class ScienceExam(Exam):\n",
        "  def __init__(self,*args):\n",
        "    self.args=list(args)\n",
        "    super().__init__(self.args[0])\n",
        "    self.time=self.args[1]\n",
        "    self.subs=self.args[2::]\n",
        "    self.no=2+len(self.subs)\n",
        "  def __str__(self):\n",
        "    return f'Marks: {self.marks} Time: {self.time} minutes Number of Parts: {self.no}'\n",
        "  def examSyllabus(self):\n",
        "    return f'{super().examSyllabus()}, {(\", \").join(self.subs)}'\n",
        "  def examParts(self):\n",
        "    ans=super().examParts()\n",
        "    for index in range(len(self.subs)):\n",
        "      a=2+index+1\n",
        "      b=self.subs[index]\n",
        "      ans+=f'Part {a} -{b}\\n' \n",
        "      \n",
        "    return ans\n",
        "engineering = ScienceExam(100,90,\"Physics\",\"HigherMaths\")\n",
        "print(engineering)\n",
        "print('----------------------------------')\n",
        "print(engineering.examSyllabus())\n",
        "print(engineering.examParts())\n",
        "print('==================================') \n",
        "architecture = ScienceExam(100,120,\"Physics\",\"HigherMaths\",\"Drawing\")\n",
        "print(architecture)\n",
        "print('----------------------------------')\n",
        "print(architecture.examSyllabus())\n",
        "print(architecture.examParts())"
      ],
      "metadata": {
        "colab": {
          "base_uri": "https://localhost:8080/"
        },
        "id": "VmSUb9n_-RDY",
        "outputId": "8dca4fdf-5a30-47c9-ecd7-b2ae749697dc"
      },
      "execution_count": null,
      "outputs": [
        {
          "output_type": "stream",
          "name": "stdout",
          "text": [
            "Marks: 100 Time: 90 minutes Number of Parts: 4\n",
            "----------------------------------\n",
            "Maths , English, Physics, HigherMaths\n",
            "Part 1 - Maths\n",
            "Part 2 - English\n",
            "Part 3 -Physics\n",
            "Part 4 -HigherMaths\n",
            "\n",
            "==================================\n",
            "Marks: 100 Time: 120 minutes Number of Parts: 5\n",
            "----------------------------------\n",
            "Maths , English, Physics, HigherMaths, Drawing\n",
            "Part 1 - Maths\n",
            "Part 2 - English\n",
            "Part 3 -Physics\n",
            "Part 4 -HigherMaths\n",
            "Part 5 -Drawing\n",
            "\n"
          ]
        }
      ]
    },
    {
      "cell_type": "code",
      "source": [
        "#task-6\n",
        "\n",
        "class Shape3D:\n",
        "\n",
        "  pi = 3.14159\n",
        "  def __init__(self, name = 'Default', radius = 0):\n",
        "    self._area = 0\n",
        "    self._name = name\n",
        "    self._height = 'No need'\n",
        "    self._radius = radius   \n",
        "\n",
        "  def calc_surface_area(self):\n",
        "    return 2 * Shape3D.pi * self._radius\n",
        "\n",
        "  def __str__(self):\n",
        "      return \"Radius: \"+str(self._radius)\n",
        "class Sphere(Shape3D):\n",
        "  def __init__(self,n,r):\n",
        "    super().__init__(n,r)\n",
        "    print(f\"Shape name:{self._name} , Area Formula: 4 * pi * r * r\")\n",
        "  def calc_surface_area(self):\n",
        "    self._area= 4 * Shape3D.pi * self._radius*self._radius\n",
        "    #return self._area\n",
        "  def __str__(self):\n",
        "    super().__str__()\n",
        "    return (f'Height:{self._height} \\nArea:{self._area}')\n",
        "class Cylinder(Shape3D):\n",
        "  def __init__(self,n,r,h):\n",
        "    super().__init__(n,r)\n",
        "    self.height=h\n",
        "    print(f\"Shape name:{self._name} , Area Formula: 2 * pi * r * (r + h)\")\n",
        "  def calc_surface_area(self):\n",
        "    self._area= 2 * Shape3D.pi * self._radius*(self._radius+self.height)\n",
        "    #return self._area\n",
        "  def __str__(self):\n",
        "    super().__str__()\n",
        "    return (f'Height:{self.height} \\nArea:{self._area}')\n",
        "\n",
        "sph = Sphere('Sphere', 5)\n",
        "print('----------------------------------')\n",
        "sph.calc_surface_area()\n",
        "print(sph)\n",
        "print('==================================')\n",
        "cyl = Cylinder('Cylinder', 5, 10)\n",
        "print('----------------------------------')\n",
        "cyl.calc_surface_area()\n",
        "print(cyl)\n"
      ],
      "metadata": {
        "colab": {
          "base_uri": "https://localhost:8080/"
        },
        "id": "uav5-V61i_AO",
        "outputId": "62ae1791-70a0-4e73-f860-76f4b694c38a"
      },
      "execution_count": null,
      "outputs": [
        {
          "output_type": "stream",
          "name": "stdout",
          "text": [
            "Shape name:Sphere , Area Formula: 4 * pi * r * r\n",
            "----------------------------------\n",
            "Height:No need \n",
            "Area:314.159\n",
            "==================================\n",
            "Shape name:Cylinder , Area Formula: 2 * pi * r * (r + h)\n",
            "----------------------------------\n",
            "Height:10 \n",
            "Area:471.2385\n"
          ]
        }
      ]
    },
    {
      "cell_type": "code",
      "source": [
        "#task-7\n",
        "class PokemonBasic:\n",
        "\n",
        "  def __init__(self, name = 'Default', hp = 0, weakness = 'None', type = 'Unknown'):\n",
        "    self.name = name\n",
        "    self.hit_point = hp\n",
        "    self.weakness = weakness\n",
        "    self.type = type\n",
        "\n",
        "  def get_type(self):\n",
        "    return 'Main type: ' + self.type\n",
        "\n",
        "  def get_move(self):\n",
        "    return 'Basic move: ' + 'Quick Attack'\n",
        "\n",
        "  def __str__(self):\n",
        "    return \"Name: \" + self.name + \", HP: \" + str(self.hit_point) + \", Weakness: \" + self.weakness\n",
        "\n",
        "class PokemonExtra(PokemonBasic):\n",
        "  def __init__(self,n,h,w,mt,st=None,m=None):\n",
        "    super().__init__(n,h,w,mt)\n",
        "    self.name=n\n",
        "    self.stype=st\n",
        "    self.move=m\n",
        "  def get_type(self):\n",
        "    if self.stype!=None:\n",
        "      return f'{super().get_type()} Secondary type: {self.stype}'\n",
        "    else:\n",
        "      return super().get_type()\n",
        "  def get_move(self):\n",
        "    \n",
        "    if self.move!=None:\n",
        "      list1=list(self.move)\n",
        "      return f'Other move: {(\",\").join(list1)}'\n",
        "    else:\n",
        "      return super().get_move()\n",
        "\n",
        "print('\\n------------Basic Info:--------------')\n",
        "pk = PokemonBasic()\n",
        "print(pk)\n",
        "print(pk.get_type())\n",
        "print(pk.get_move())\n",
        "\n",
        "print('\\n------------Pokemon 1 Info:-------------')\n",
        "charmander = PokemonExtra('Charmander', 39, 'Water', 'Fire')\n",
        "print(charmander)\n",
        "print(charmander.get_type())\n",
        "print(charmander.get_move())\n",
        "\n",
        "print('\\n------------Pokemon 2 Info:-------------')\n",
        "charizard = PokemonExtra('Charizard', 78, 'Water', 'Fire', 'Flying', ('Fire Spin', 'Fire Blaze'))\n",
        "print(charizard)\n",
        "print(charizard.get_type())\n",
        "print(charizard.get_move())\n"
      ],
      "metadata": {
        "id": "Kx_8CIfWlfZo",
        "colab": {
          "base_uri": "https://localhost:8080/"
        },
        "outputId": "dbac01df-b860-4bc7-d170-54861280e8e2"
      },
      "execution_count": null,
      "outputs": [
        {
          "output_type": "stream",
          "name": "stdout",
          "text": [
            "\n",
            "------------Basic Info:--------------\n",
            "Name: Default, HP: 0, Weakness: None\n",
            "Main type: Unknown\n",
            "Basic move: Quick Attack\n",
            "\n",
            "------------Pokemon 1 Info:-------------\n",
            "Name: Charmander, HP: 39, Weakness: Water\n",
            "Main type: Fire\n",
            "Basic move: Quick Attack\n",
            "\n",
            "------------Pokemon 2 Info:-------------\n",
            "Name: Charizard, HP: 78, Weakness: Water\n",
            "Main type: Fire Secondary type: Flying\n",
            "Other move: Fire Spin,Fire Blaze\n"
          ]
        }
      ]
    },
    {
      "cell_type": "code",
      "source": [
        "#task-8\n",
        "class Team:\n",
        "\n",
        "    def __init__(self, name):\n",
        "        self.name = \"default\"\n",
        "        self.total_player = 5\n",
        "    def info(self):\n",
        "        print(\"We love sports\")\n",
        "# Write your code here.\n",
        "\n",
        "class Team_test:\n",
        "    def check(self, tm):\n",
        "        print(\"=========================\")\n",
        "        print(\"Total Player: \", tm.total_player)\n",
        "        tm.info()\n",
        "class FootBallTeam(Team):\n",
        "  def __init__(self,n):\n",
        "    super().__init__(n)\n",
        "    self.total_player=11\n",
        "  def info(self):\n",
        "    print(f\"Our name is {self.name} \\nWe play Football\")\n",
        "    super().info()\n",
        "class CricketTeam(Team):\n",
        "  def __init__(self,n):\n",
        "    super().__init__(n)\n",
        "    self.total_player=11\n",
        "  def info(self):\n",
        "    print(f\"Our name is {self.name} \\nWe play Cricket\")\n",
        "    super().info()\n",
        "    #print(f\"Our name is {self.name} \\nWe play \")\n",
        "\n",
        "f = FootBallTeam(\"Brazil\")\n",
        "c = CricketTeam(\"Bangladesh\")\n",
        "test = Team_test()\n",
        "test.check(f)\n",
        "test.check(c)\n"
      ],
      "metadata": {
        "id": "NbcKXByGlxiB",
        "colab": {
          "base_uri": "https://localhost:8080/"
        },
        "outputId": "b7b3ab5f-1a01-46ee-86fe-4077985b148f"
      },
      "execution_count": null,
      "outputs": [
        {
          "output_type": "stream",
          "name": "stdout",
          "text": [
            "=========================\n",
            "Total Player:  11\n",
            "Our name is default \n",
            "We play Football\n",
            "We love sports\n",
            "=========================\n",
            "Total Player:  11\n",
            "Our name is default \n",
            "We play Cricket\n",
            "We love sports\n"
          ]
        }
      ]
    },
    {
      "cell_type": "code",
      "source": [
        "#task-9\n",
        "\n",
        "class Pokemon:\n",
        "  def __init__(self, p):\n",
        "    self.pokemon = p\n",
        "    self.pokemon_type = \"Needs to be set\"\n",
        "    self.pokemon_weakness = \"Needs to be set\"\n",
        "  def kind(self):\n",
        "    return self.pokemon_type     \n",
        "  def weakness(self):\n",
        "    return self.pokemon_weakness \n",
        "  def what_am_i(self):\n",
        "    print(\"I am a Pokemon.\")\n",
        "class Pikachu(Pokemon):\n",
        "  def __init__(self):\n",
        "    self.pokemon = \"Pikachu\"\n",
        "    self.pokemon_type = \"Electric\"\n",
        "    self.pokemon_weakness = \"Ground\"\n",
        "  def what_am_i(self):\n",
        "    super().what_am_i()\n",
        "    print(f\"I am a Pikachu.\")\n",
        "class Charmander(Pokemon):\n",
        "  def __init__(self):\n",
        "    self.pokemon = \"Charmander\"\n",
        "    self.pokemon_type = \"Fire\"\n",
        "    self.pokemon_weakness = \"Water, Ground and Rock\"\n",
        "  def what_am_i(self):\n",
        "    super().what_am_i()\n",
        "    print(\"I am a Charmander.\")\n",
        "\n",
        "pk1 = Pikachu()\n",
        "print(\"Pokemon:\", pk1.pokemon)\n",
        "print(\"Type:\", pk1.kind())\n",
        "print(\"Weakness:\", pk1.weakness())\n",
        "pk1.what_am_i()\n",
        "print(\"========================\")\n",
        "c1 = Charmander()\n",
        "print(\"Pokemon:\", c1.pokemon)\n",
        "print(\"Type:\", c1.kind())\n",
        "print(\"Weakness:\", c1.weakness())\n",
        "c1.what_am_i()\n"
      ],
      "metadata": {
        "colab": {
          "base_uri": "https://localhost:8080/"
        },
        "id": "OfiHpUWd8k9S",
        "outputId": "545980dd-8ae1-41bc-bba9-2822d1028359"
      },
      "execution_count": null,
      "outputs": [
        {
          "output_type": "stream",
          "name": "stdout",
          "text": [
            "Pokemon: Pikachu\n",
            "Type: Electric\n",
            "Weakness: Ground\n",
            "I am a Pokemon.\n",
            "I am a Pikachu.\n",
            "========================\n",
            "Pokemon: Charmander\n",
            "Type: Fire\n",
            "Weakness: Water, Ground and Rock\n",
            "I am a Pokemon.\n",
            "I am a Charmander.\n"
          ]
        }
      ]
    },
    {
      "cell_type": "code",
      "source": [
        "#task-10\n",
        "class Department:\n",
        "    def __init__(self, s):\n",
        "        self.semester = s\n",
        "        self.name = \"Default\"\n",
        "        self.id = -1\n",
        "        \n",
        "    def student_info(self):\n",
        "        print(\"Name:\", self.name)\n",
        "        print(\"ID:\", self.id) \n",
        "        \n",
        "    def courses(self, c1, c2, c3):\n",
        "        print(\"No courses Approved yet!\")\n",
        "class CSE(Department):\n",
        "  def __init__(self,n,id,s1):\n",
        "    super().__init__(s1)\n",
        "    self.name=n\n",
        "    self.id=id\n",
        "  def courses(self,a1,a2,a3):\n",
        "    #super().courses(a1,a2,a3)\n",
        "    print(f\"Courses Approved to this CSE student in {self.semester} semester :\")\n",
        "    print(f'{a1}\\n{a2}\\n{a3}')\n",
        "class EEE(Department):\n",
        "  def __init__(self,n,id,s1):\n",
        "    super().__init__(s1)\n",
        "    self.name=n\n",
        "    self.id=id\n",
        "  def courses(self,a1,a2,a3):\n",
        "    #super().courses(a1,a2,a3)\n",
        "    print(f\"Courses Approved to this CSE student in {self.semester} semester :\")\n",
        "    print(f'{a1}\\n{a2}\\n{a3}')\n",
        "\n",
        "s1 = CSE(\"Rahim\", 16101328,\"Spring2016\")\n",
        "s1.student_info()\n",
        "s1.courses(\"CSE110\", \"MAT110\", \"ENG101\")\n",
        "print(\"==================\")\n",
        "s2 = EEE(\"Tanzim\", 18101326, \"Spring2018\")\n",
        "s2.student_info()\n",
        "s2.courses(\"Mat110\", \"PHY111\", \"ENG101\")\n",
        "print(\"==================\")\n",
        "s3 = CSE(\"Rudana\", 18101326, \"Fall2017\")\n",
        "s3.student_info()\n",
        "s3.courses(\"CSE111\", \"PHY101\", \"MAT120\")\n",
        "print(\"==================\")\n",
        "s4 = EEE(\"Zainab\", 19201623, \"Summer2019\")\n",
        "s4.student_info()\n",
        "s4.courses(\"EEE201\", \"PHY112\", \"MAT120\")\n"
      ],
      "metadata": {
        "id": "JoxFsdsdyCQR",
        "colab": {
          "base_uri": "https://localhost:8080/"
        },
        "outputId": "78f8e234-3811-4f41-b58e-9f498f29cb00"
      },
      "execution_count": null,
      "outputs": [
        {
          "output_type": "stream",
          "name": "stdout",
          "text": [
            "Name: Rahim\n",
            "ID: 16101328\n",
            "Courses Approved to this CSE student in Spring2016 semester :\n",
            "CSE110\n",
            "MAT110\n",
            "ENG101\n",
            "==================\n",
            "Name: Tanzim\n",
            "ID: 18101326\n",
            "Courses Approved to this CSE student in Spring2018 semester :\n",
            "Mat110\n",
            "PHY111\n",
            "ENG101\n",
            "==================\n",
            "Name: Rudana\n",
            "ID: 18101326\n",
            "Courses Approved to this CSE student in Fall2017 semester :\n",
            "CSE111\n",
            "PHY101\n",
            "MAT120\n",
            "==================\n",
            "Name: Zainab\n",
            "ID: 19201623\n",
            "Courses Approved to this CSE student in Summer2019 semester :\n",
            "EEE201\n",
            "PHY112\n",
            "MAT120\n"
          ]
        }
      ]
    },
    {
      "cell_type": "code",
      "source": [
        "#task-20\n",
        "class msgClass:\n",
        "    def __init__(self):\n",
        "        self.content = 0\n",
        "class Q5:\n",
        "    def __init__(self):\n",
        "        self.sum = 3\n",
        "        self.y = 6\n",
        "        self.x = 1\n",
        "    def methodA(self):\n",
        "        x = 1\n",
        "        y = 1\n",
        "        msg = [msgClass()]\n",
        "        myMsg = msgClass()\n",
        "        myMsg.content = self.x\n",
        "        msg[0] = myMsg\n",
        "        msg[0].content = self.y + myMsg.content\n",
        "        self.y = self.y + self.methodB(msg[0])\n",
        "        y = self.methodB(msg[0]) + self.y\n",
        "        x = y + self.methodB(msg, msg[0])\n",
        "        self.sum = x + y + msg[0].content\n",
        "        print(f\"{x} {y} {self.sum}\")\n",
        "   \n",
        " \n",
        " \n",
        " \n",
        "    def methodB(self, *args):\n",
        "        if len(args) == 1:\n",
        "            x = 1\n",
        "            y = 1\n",
        "            y = self.sum + args[0].content\n",
        "            self.y = y + args[0].content\n",
        "            x = self.x + 3 + args[0].content\n",
        "            self.sum = self.sum + x + y\n",
        "            Q5.x = args[0].content + x + 2\n",
        "            print(f\"{x} {y} {self.sum}\")\n",
        "            return y\n",
        "        else:\n",
        "            x = 1\n",
        "            self.y = self.y + args[0][0].content\n",
        "            args[0][0].content = self.y + args[1].content\n",
        "            x = x + 3 + args[1].content\n",
        "            self.sum = self.sum + x + self.y\n",
        "            args[1].content = self.sum - args[0][0].content\n",
        "            print(f\"{Q5.x} {self.y} {self.sum}\")\n",
        "            return self.sum\n",
        "q =  Q5()\n",
        "q.methodA()\n",
        " \n"
      ],
      "metadata": {
        "colab": {
          "base_uri": "https://localhost:8080/"
        },
        "id": "LZ8eTVKFTmFX",
        "outputId": "d831e2e2-cd99-442f-b3ee-d7a9585f9e58"
      },
      "execution_count": null,
      "outputs": [
        {
          "output_type": "stream",
          "name": "stdout",
          "text": [
            "11 10 24\n",
            "11 31 66\n",
            "20 45 167\n",
            "236 69 420\n"
          ]
        }
      ]
    },
    {
      "cell_type": "code",
      "source": [
        "#task-18\n",
        "class msgClass:\n",
        "    def __init__(self):\n",
        "        self.content = 0 \n",
        "class Q5:\n",
        "    def __init__(self):\n",
        "        self.sum = 1\n",
        "        self.x= 2\n",
        "        self.y = 3\n",
        "    def methodA(self):\n",
        "        x, y = 1, 1\n",
        "        msg = []\n",
        "        myMsg = msgClass()\n",
        "        myMsg.content = self.x\n",
        "        msg.append(myMsg)\n",
        "        msg[0].content = self.y + myMsg.content\n",
        "        self.y = self.y + self.methodB(msg[0])\n",
        "        y = self.methodB(msg[0]) + self.y\n",
        "        x = y + self.methodB(msg[0], msg)\n",
        "        self.sum = x + y + msg[0].content\n",
        "        print(x,\" \", y,\" \", self.sum)\n",
        "    def methodB(self, mg1, mg2 = None):\n",
        "        if mg2 == None:\n",
        "            x, y = 5, 6\n",
        "            y = self.sum + mg1.content\n",
        "            self.y = y + mg1.content\n",
        "            x = self.x + 7 +mg1.content\n",
        "            self.sum = self.sum + x + y\n",
        "            self.x = mg1.content + x +8\n",
        "            print(x, \" \", y,\" \", self.sum)\n",
        "            return y\n",
        "        else:\n",
        "            x = 1\n",
        "            self.y += mg2[0].content\n",
        "            mg2[0].content = self.y + mg1.content\n",
        "            x += 4 + mg1.content\n",
        "            self.sum += x + self.y\n",
        "            mg1.content = self.sum - mg2[0].content\n",
        "            print(self.x, \" \",self.y,\" \", self.sum)\n",
        "            return self.sum\n",
        "q = Q5()\n",
        "q.methodA()\n",
        "\n"
      ],
      "metadata": {
        "colab": {
          "base_uri": "https://localhost:8080/"
        },
        "id": "1A4YKHVIw-kL",
        "outputId": "deb5e7e5-971d-44ee-a54a-beff3b659d11"
      },
      "execution_count": null,
      "outputs": [
        {
          "output_type": "stream",
          "name": "stdout",
          "text": [
            "14   6   21\n",
            "39   26   86\n",
            "52   36   168\n",
            "225   57   409\n"
          ]
        }
      ]
    },
    {
      "cell_type": "code",
      "source": [
        "#A-6\n",
        "#task-14\n",
        "\n",
        "class msgClass:\n",
        "    def __init__(self):\n",
        "        self.content = 0\n",
        " \n",
        "class Quiz3:\n",
        "    x = 0\n",
        "    def __init__(self, k = None):\n",
        "        self.sum, self.y = 0, 0\n",
        "        if k is None:\n",
        "            self.sum = 5\n",
        "            Quiz3.x = 2\n",
        "            self.y = 2\n",
        "        else:\n",
        "            self.sum = self.sum + k\n",
        "            self.y = 3\n",
        "            Quiz3.x += 2    \n",
        "    def methodA(self):\n",
        "        x = 1\n",
        "        y = 1\n",
        "        msg = [None]\n",
        "        myMsg = msgClass()\n",
        "        myMsg.content = Quiz3.x\n",
        "        msg[0] = myMsg\n",
        "        msg[0].content = self.y + myMsg.content\n",
        "        self.y = self.y + self.methodB(msg[0])\n",
        "        y = self.methodB(msg[0]) + self.y\n",
        "        x = y + self.methodB(msg, msg[0])\n",
        "        self.sum = x + y + msg[0].content\n",
        "        print(x, y, self.sum)\n",
        "    def methodB(self, *args):\n",
        "        if len(args) == 2:\n",
        "            mg2, mg1 = args\n",
        "            x = 2\n",
        "            self.y = self.y + mg2[0].content\n",
        "            mg2[0].content = self.y + mg1.content\n",
        "            x = x + 2 + mg1.content\n",
        "            self.sum = self.sum + x + self.y\n",
        "            mg1.content = self.sum - mg2[0].content\n",
        "            print(Quiz3.x, self.y, self.sum)\n",
        "            return self.sum\n",
        "        \n",
        "        elif len(args) == 1:\n",
        "            mg1, = args\n",
        "            x = 1\n",
        "            y = 2\n",
        "            y = self.sum + mg1.content\n",
        "            self.y = y + mg1.content\n",
        "            x = Quiz3.x + 5 + mg1.content\n",
        "            self.sum = self.sum + x + y\n",
        "            Quiz3.x = mg1.content + x + 3\n",
        "            print(x, y, self.sum)\n",
        "            return y\n",
        "\n",
        "a1 = Quiz3()\n",
        "a2 = Quiz3(5)\n",
        "msg = msgClass()\n",
        "a1.methodA()\n",
        "a2.methodB(msg)\n"
      ],
      "metadata": {
        "colab": {
          "base_uri": "https://localhost:8080/"
        },
        "id": "2mf4x3STI8Hm",
        "outputId": "942d148a-a25a-4ed5-b59f-ec84f7896c65"
      },
      "execution_count": null,
      "outputs": [
        {
          "output_type": "stream",
          "name": "stdout",
          "text": [
            "15 11 31\n",
            "35 37 103\n",
            "44 49 211\n",
            "291 80 527\n",
            "49 5 59\n"
          ]
        },
        {
          "output_type": "execute_result",
          "data": {
            "text/plain": [
              "5"
            ]
          },
          "metadata": {},
          "execution_count": 4
        }
      ]
    },
    {
      "cell_type": "code",
      "source": [
        "class A:\n",
        "    temp = 5\n",
        "    def __init__(self):\n",
        "        self.y = A.temp - 2\n",
        "        self.sum = A.temp + 1\n",
        "        A.temp += 3\n",
        "    def methodA(self, m,  n):\n",
        "        x = 0\n",
        "        self.y = self.y + m + (A.temp)\n",
        "        x = x + 2 + n\n",
        "        self.sum = self.sum + x + self.y\n",
        "        print(x, self.y, self.sum)\n",
        "class B(A):\n",
        "    x = 1\n",
        "    def __init__(self, obj):\n",
        "        super().__init__()\n",
        "        obj.sum = 11\n",
        "        self.y = A.temp + 4\n",
        "        self.sum = 3 + A.temp + B.x\n",
        "    def methodB(self, m,  n):\n",
        "        y = 0\n",
        "        y = y + self.y\n",
        "        self.methodA(y, self.y)\n",
        "        self.sum = B.x + y\n",
        "        print(B.x, y, self.sum)\n",
        "\n",
        "a1=A()\n",
        "b1=B(a1)\n",
        "b2=B(b1)\n",
        "b1.methodA(2,1)\n",
        "b2.methodB(1,3)"
      ],
      "metadata": {
        "colab": {
          "base_uri": "https://localhost:8080/"
        },
        "id": "dP5W0k6eUJIe",
        "outputId": "3f620a7b-68eb-4ee9-8dcc-0ba9dc4844d5"
      },
      "execution_count": null,
      "outputs": [
        {
          "output_type": "stream",
          "name": "stdout",
          "text": [
            "3 31 45\n",
            "20 50 88\n",
            "1 18 19\n"
          ]
        }
      ]
    }
  ]
}