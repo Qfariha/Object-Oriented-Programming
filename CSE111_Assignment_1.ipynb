{
  "cells": [
    {
      "cell_type": "code",
      "execution_count": null,
      "id": "a296b6d7",
      "metadata": {
        "id": "a296b6d7",
        "outputId": "e0885543-58f8-4e43-f758-1fb44ef9ef13"
      },
      "outputs": [
        {
          "name": "stdout",
          "output_type": "stream",
          "text": [
            "houSE\n",
            "house\n",
            "house\n"
          ]
        }
      ],
      "source": [
        "#ASSIGNMENT-1\n",
        "        "
      ]
    },
    {
      "cell_type": "code",
      "execution_count": null,
      "id": "0a34a1da",
      "metadata": {
        "id": "0a34a1da",
        "outputId": "8b90471d-2288-45d0-cc0c-0fca149c4a49"
      },
      "outputs": [
        {
          "name": "stdout",
          "output_type": "stream",
          "text": [
            "houSE\n",
            "house\n"
          ]
        }
      ],
      "source": [
        "#Strings\n",
        "#1\n",
        "var=input()\n",
        "c1=0\n",
        "c2=0\n",
        "res=\"\"\n",
        "for char in var:\n",
        "    if \"A\"<= char<=\"Z\":\n",
        "    #if ord(\"A\") <= ord(char) <= ord(\"Z\"): \n",
        "        c1+=1\n",
        "    else:\n",
        "        c2+=1\n",
        "#print(c1,c2)\n",
        "if c1>c2:\n",
        "    #res=var.upper()\n",
        "    for char in var:\n",
        "        if \"a\"<= char<=\"z\":\n",
        "            char1=chr(ord(char)-32)\n",
        "            res+=char1\n",
        "        else:\n",
        "            res+=char\n",
        "    print(res)\n",
        "    \n",
        "else:\n",
        "    for char in var:\n",
        "        if \"A\"<= char<=\"Z\":\n",
        "            char1=chr(ord(char)+32)\n",
        "            res+=char1\n",
        "        else:\n",
        "            res+=char\n",
        "    print(res)\n",
        "    #print(var.lower())"
      ]
    },
    {
      "cell_type": "code",
      "execution_count": null,
      "id": "840fcd95",
      "metadata": {
        "id": "840fcd95",
        "outputId": "9091a5d4-ef57-49db-fe82-8a30ae2754ab"
      },
      "outputs": [
        {
          "name": "stdout",
          "output_type": "stream",
          "text": [
            "jhg231j213\n",
            "MIXED\n"
          ]
        }
      ],
      "source": [
        "#task-2\n",
        "s=input()\n",
        "flag1=0\n",
        "flag2=0\n",
        "\n",
        "for i in s:\n",
        "  \n",
        "  if \"a\"<=i<=\"z\" or \"A\"<=i<=\"Z\":\n",
        "    flag1=1\n",
        "        \n",
        "  elif \"0\"<=i<=\"9\":\n",
        "    flag2=2\n",
        "  \n",
        "if flag1==1 and flag2==0:\n",
        "  print(\"WORD\")\n",
        "if flag2==2 and flag1==0:\n",
        "  print(\"NUMBER\")\n",
        "if flag2==2 and flag1==1:\n",
        "  print(\"MIXED\")"
      ]
    },
    {
      "cell_type": "code",
      "execution_count": null,
      "id": "b974ce94",
      "metadata": {
        "colab": {
          "base_uri": "https://localhost:8080/"
        },
        "id": "b974ce94",
        "outputId": "81585b3b-e4ca-4b61-b94a-42fe246e6248"
      },
      "outputs": [
        {
          "output_type": "stream",
          "name": "stdout",
          "text": [
            "baNgladEsh\n",
            "glad\n"
          ]
        }
      ],
      "source": [
        "#task-3\n",
        "s=input()\n",
        "upper1=0\n",
        "upper2=0\n",
        "res=\"\"\n",
        "a=\"\"\n",
        "for i in range(len(s)):\n",
        "  if s[i].isupper():\n",
        "    a+=s[i+1::]\n",
        "for i in range(len(a)):\n",
        "  if a[i].isupper():\n",
        "    res+=a[:i:]\n",
        "if res!=\"\":\n",
        "    print(res)\n",
        "else:\n",
        "    print(\"BLANK\")"
      ]
    },
    {
      "cell_type": "code",
      "execution_count": null,
      "id": "b7982ebe",
      "metadata": {
        "id": "b7982ebe",
        "outputId": "2518c355-bb5a-4e16-9375-b363fcead981"
      },
      "outputs": [
        {
          "name": "stdout",
          "output_type": "stream",
          "text": [
            "dean, tom\n",
            "Nothing in common.\n"
          ]
        }
      ],
      "source": [
        "#4\n",
        "input1=input()\n",
        "ans=\"\"\n",
        "list1=input1.split(\",\")\n",
        "for letr in list1[0]:\n",
        "    if letr in list1[1]:\n",
        "        ans+=letr\n",
        "for letr1 in list1[1]:\n",
        "    if letr1 in list1[0]:\n",
        "        ans+=letr1\n",
        "if ans!=\"\":\n",
        "    print(ans)\n",
        "else:\n",
        "    print(\"Nothing in common.\")"
      ]
    },
    {
      "cell_type": "code",
      "execution_count": null,
      "id": "65c4ec2c",
      "metadata": {
        "id": "65c4ec2c",
        "outputId": "fffa13d8-1b32-4c21-f457-90b3d0b32d82"
      },
      "outputs": [
        {
          "name": "stdout",
          "output_type": "stream",
          "text": [
            "OhMyBR@CU20\n",
            "OK\n"
          ]
        }
      ],
      "source": [
        "#5\n",
        "input1=input()\n",
        "upper=False\n",
        "lower=False\n",
        "special=False\n",
        "num=False\n",
        "for char in input1:\n",
        "    if \"A\"<= char<=\"Z\":\n",
        "        upper=True\n",
        "    if \"a\"<= char<=\"z\":\n",
        "        lower=True\n",
        "    if \"0\"<= char<=\"9\":\n",
        "        num=True\n",
        "    if char in \"_$#@\":\n",
        "        special=True\n",
        "if upper==False:\n",
        "    print(\"Uppercase missing\")\n",
        "if lower==False:\n",
        "    print(\"Lowercase missing\")\n",
        "if special==False:\n",
        "    print(\"Specialcase missing\")\n",
        "if num==False:\n",
        "    print(\"Digit missing\")\n",
        "if upper==True and lower==True and num==True and special==True:\n",
        "    print(\"OK\")\n",
        "#if upper==False and num==False and special==False:\n",
        "    #print(\"Uppercase character missing, Digit missing, Special character missing \")\n",
        "\n",
        "    "
      ]
    },
    {
      "cell_type": "code",
      "execution_count": null,
      "id": "aa832c9b",
      "metadata": {
        "id": "aa832c9b"
      },
      "outputs": [],
      "source": [
        "#List\n",
        "#last index= len(variable)-1"
      ]
    },
    {
      "cell_type": "code",
      "execution_count": null,
      "id": "1bbddee7",
      "metadata": {
        "id": "1bbddee7",
        "outputId": "893e8c6d-d286-4bd5-86e8-631cb63a713e",
        "colab": {
          "base_uri": "https://localhost:8080/"
        }
      },
      "outputs": [
        {
          "output_type": "stream",
          "name": "stdout",
          "text": [
            "10 20 20 30 10 50 90 STOP\n",
            "['10'] list1\n",
            "['10']\n",
            "['10', '20'] list1\n",
            "['10', '20']\n",
            "['10', '20', '20'] list1\n",
            "['10', '20']\n",
            "['10', '20', '20', '30'] list1\n",
            "['10', '20', '30']\n",
            "['10', '20', '20', '30', '10'] list1\n",
            "['10', '20', '30']\n",
            "['10', '20', '20', '30', '10', '50'] list1\n",
            "['10', '20', '30', '50']\n",
            "['10', '20', '20', '30', '10', '50', '90'] list1\n",
            "['10', '20', '30', '50', '90']\n",
            "10 - 2 times\n",
            "20 - 2 times\n",
            "30 - 1 times\n",
            "50 - 1 times\n",
            "90 - 1 times\n"
          ]
        }
      ],
      "source": [
        "#1\n",
        "list1=[]\n",
        "list2=[]\n",
        "input1=input()\n",
        "var=input1.split(\" \")\n",
        "for num in var:\n",
        "    if num==\"STOP\":\n",
        "        break\n",
        "    else:\n",
        "        list1.append(num)\n",
        "        print(list1,\"list1\")\n",
        "        if num not in list2:\n",
        "            list2.append(num)\n",
        "        print(list2)\n",
        "for num1 in list2:\n",
        "    count=0\n",
        "    for num2 in list1:\n",
        "        if num1==num2:\n",
        "            count+=1\n",
        "    print(num1,\"-\",count,\"times\")\n",
        "        \n",
        "        "
      ]
    },
    {
      "cell_type": "code",
      "execution_count": null,
      "id": "dc267372",
      "metadata": {
        "id": "dc267372",
        "outputId": "3f387c28-e96e-4f40-c493-5e4118d7e482"
      },
      "outputs": [
        {
          "name": "stdout",
          "output_type": "stream",
          "text": [
            "4\n",
            "1 2 3\n",
            "4 5 6\n",
            "10 11 12\n",
            "7 8 9\n",
            "['10', '11', '12']\n",
            "33\n"
          ]
        }
      ],
      "source": [
        "#2\n",
        "maxlist=[]\n",
        "maxsum=0\n",
        "input1=int(input())\n",
        "for i in range(input1):\n",
        "    input2=input()\n",
        "    templist=input2.split(\" \")\n",
        "    total=0\n",
        "    for num in templist:\n",
        "        total+=int(num)\n",
        "        tempsum=total\n",
        "    \n",
        "    if tempsum>maxsum:\n",
        "        maxlist,maxsum=templist,tempsum\n",
        "print(maxlist)\n",
        "print(maxsum)\n",
        "    \n",
        "    "
      ]
    },
    {
      "cell_type": "code",
      "execution_count": null,
      "id": "dd0f8107",
      "metadata": {
        "id": "dd0f8107",
        "outputId": "473635aa-8fb8-48d6-e308-5f02666f8ee0"
      },
      "outputs": [
        {
          "name": "stdout",
          "output_type": "stream",
          "text": [
            "[6, 8, 10, 9, 12, 15, 18, 24, 30]\n"
          ]
        }
      ],
      "source": [
        "#extra-1\n",
        "list1=[\"2\",'3','6']\n",
        "list2=['3','4','5']\n",
        "ans=[]\n",
        "for num1 in list1:\n",
        "    for num2 in list2:\n",
        "        a=int(num1)*int(num2)\n",
        "        ans.append(a)\n",
        "print(ans)\n",
        "        \n",
        "        \n"
      ]
    },
    {
      "cell_type": "code",
      "execution_count": null,
      "id": "e93c530b",
      "metadata": {
        "id": "e93c530b",
        "outputId": "fff34b59-28cb-4e08-cf48-3fe03b02c2da"
      },
      "outputs": [
        {
          "name": "stdout",
          "output_type": "stream",
          "text": [
            "1 4 2 3\n",
            "['1', '4', '2', '3']\n",
            "[3, 2, 1]\n",
            "UB Jumper\n",
            "2 1 4 6 10\n",
            "['2', '1', '4', '6', '10']\n",
            "[1, 3, 2, 4]\n",
            "UB Jumper\n",
            "1 4 2 -1 6\n",
            "['1', '4', '2', '-1', '6']\n",
            "[3, 2]\n",
            "Not UB Jumper\n",
            "STOP\n",
            "['STOP']\n",
            "[]\n",
            "UB Jumper\n"
          ]
        }
      ],
      "source": [
        "#3\n",
        "while True:\n",
        "    list2=[]\n",
        "    input1=input()\n",
        "    list1=input1.split(\" \")\n",
        "    \n",
        "    print(list1)\n",
        "    for index in range(len(list1)-1):\n",
        "        num1=int(list1[index])\n",
        "        num2=int(list1[index+1])\n",
        "        a=abs(num1-num2)\n",
        "        if a not in list2 and a<len(list1):  #list len 4 hoile absdiff =1,2,3 [4 or 4< hoile ub hoy na]\n",
        "            list2.append(a)\n",
        "    print(list2)\n",
        "    if len(list2)==len(list1)-1:\n",
        "        print(\"UB Jumper\")\n",
        "    else:\n",
        "        print(\"Not UB Jumper\")\n",
        "    if input1==\"STOP\":\n",
        "        break\n",
        "        \n",
        "    "
      ]
    },
    {
      "cell_type": "code",
      "execution_count": null,
      "id": "b7c7b52a",
      "metadata": {
        "id": "b7c7b52a",
        "outputId": "ef10f574-b594-4474-af2f-ada7549b165c"
      },
      "outputs": [
        {
          "name": "stdout",
          "output_type": "stream",
          "text": [
            "6 5\n",
            "0 0 0 0 0 0\n",
            "2\n"
          ]
        }
      ],
      "source": [
        "#4\n",
        "input1=input()                 \n",
        "list1=input1.split(\" \")\n",
        "input2=input()                                 \n",
        "list2=input2.split(\" \")\n",
        "count=0\n",
        "for num1 in list2:\n",
        "    num=int(num1)\n",
        "    if (5-num)>=int(list1[1]):\n",
        "        count+=1\n",
        "\n",
        "print(count//3)\n",
        "    \n",
        "    "
      ]
    },
    {
      "cell_type": "code",
      "execution_count": null,
      "id": "87e11416",
      "metadata": {
        "id": "87e11416"
      },
      "outputs": [],
      "source": [
        "#Dictionary"
      ]
    },
    {
      "cell_type": "code",
      "execution_count": null,
      "id": "cb343680",
      "metadata": {
        "id": "cb343680",
        "outputId": "634b9ad6-bc84-42ea-d807-2b8d02cab5a1"
      },
      "outputs": [
        {
          "name": "stdout",
          "output_type": "stream",
          "text": [
            "{'a': 400, 'b': 300, 'c': 200, 'd': 700, 'e': 200}\n",
            "Values: (200, 300, 400, 700)\n"
          ]
        }
      ],
      "source": [
        "#1\n",
        "dict1={'a': 100, 'b': 100, 'c': 200, 'd': 300}\n",
        "dict2={'a': 300, 'b': 200, 'd': 400, 'e': 200}\n",
        "ans={}\n",
        "for key,val in dict1.items():\n",
        "    if key not in ans:\n",
        "        ans[key]=val\n",
        "for key,val in dict2.items():\n",
        "    if key in ans:\n",
        "        ans[key]=ans[key]+val\n",
        "    else:\n",
        "        ans[key]=val\n",
        "list1=[]\n",
        "anslist=[]\n",
        "for val in ans.values():\n",
        "    list1.append(val)\n",
        "for index1 in range(0,len(list1)):\n",
        "    for index2 in range(index1+1,len(list1)):\n",
        "        if list1[index2]<list1[index1]:\n",
        "            list1[index1],list1[index2]=list1[index2],list1[index1]\n",
        "for num in list1:\n",
        "    if num not in anslist:\n",
        "        anslist.append(num)\n",
        "print(ans)\n",
        "print(\"Values:\",tuple(anslist))\n",
        "        \n",
        "\n",
        "                \n",
        "            "
      ]
    },
    {
      "cell_type": "code",
      "execution_count": null,
      "id": "cb954d4a",
      "metadata": {
        "id": "cb954d4a",
        "outputId": "87e98927-918b-41fb-b429-e19a3588e43f"
      },
      "outputs": [
        {
          "name": "stdout",
          "output_type": "stream",
          "text": [
            "10 20 20 30 10 50 90 STOP\n",
            "10 - 2 times\n",
            "20 - 2 times\n",
            "30 - 1 times\n",
            "50 - 1 times\n",
            "90 - 1 times\n"
          ]
        }
      ],
      "source": [
        "#2\n",
        "list1=[]\n",
        "ans={}\n",
        "input1=input()\n",
        "var=input1.split(\" \")\n",
        "for num in var:\n",
        "    if num==\"STOP\":\n",
        "        break\n",
        "    else:\n",
        "        list1.append(num)\n",
        "for num in list1:\n",
        "    if num not in ans:\n",
        "        ans[num]=1\n",
        "    else:\n",
        "        ans[num]+=1\n",
        "for key,val in ans.items():\n",
        "    print(key,\"-\",val,\"times\")"
      ]
    },
    {
      "cell_type": "code",
      "execution_count": null,
      "id": "ecc55925",
      "metadata": {
        "id": "ecc55925",
        "outputId": "bbd256f8-15b5-43f4-96c5-c23d9ff0e547"
      },
      "outputs": [
        {
          "name": "stdout",
          "output_type": "stream",
          "text": [
            "{'value1': ['key1', 'key3'], 'value2': ['key2']}\n"
          ]
        }
      ],
      "source": [
        "#3\n",
        "dict1={\"key1\" : \"value1\", \"key2\" : \"value2\", \"key3\" : \"value1\"}\n",
        "newdict={}\n",
        "for key,val in dict1.items():\n",
        "    k=val\n",
        "    v=key\n",
        "    if k not in newdict:\n",
        "        newdict[k]=[v]\n",
        "    else:\n",
        "        newdict[k].append(v)\n",
        "print(newdict)\n",
        "    \n"
      ]
    },
    {
      "cell_type": "code",
      "execution_count": null,
      "id": "8a81544b",
      "metadata": {
        "id": "8a81544b",
        "outputId": "0971aacc-61a0-4242-9421-9f78966f6eac"
      },
      "outputs": [
        {
          "name": "stdout",
          "output_type": "stream",
          "text": [
            "443355555566611966677755531111\n"
          ]
        }
      ],
      "source": [
        "#4\n",
        "input1=\"Hello,World!\"\n",
        "var=input1.upper()\n",
        "dict1={'1': [ '.', ',', '?','!',':'], '2': ['A', 'B','C'], '3': ['D', 'E','F'],\n",
        "            '4': ['G', 'H','I'], '5': ['J', 'K','L'], '6': ['M', 'N','O'], '7': ['P', 'Q','R','S'],\n",
        "             '8': ['T', 'U','V'], '9': ['W', 'X', 'Y', 'Z'], '0': [' '] }\n",
        "\n",
        "ans=\"\"\n",
        "for char in var:\n",
        "    for key,val in dict1.items():\n",
        "        if char in val:\n",
        "            for index in range(len(val)):\n",
        "                if val[index]==char:\n",
        "                    char_index=index\n",
        "                    \n",
        "            #char_index=val.index(char)\n",
        "            position=char_index+1\n",
        "            ans+=key*position\n",
        "print(ans)\n",
        "            \n",
        "            "
      ]
    },
    {
      "cell_type": "code",
      "execution_count": null,
      "id": "8a953347",
      "metadata": {
        "id": "8a953347"
      },
      "outputs": [],
      "source": [
        "\n",
        "    "
      ]
    },
    {
      "cell_type": "code",
      "execution_count": null,
      "id": "6fe93da2",
      "metadata": {
        "id": "6fe93da2"
      },
      "outputs": [],
      "source": [
        "#function"
      ]
    },
    {
      "cell_type": "code",
      "execution_count": null,
      "id": "0b7fca9e",
      "metadata": {
        "id": "0b7fca9e",
        "outputId": "1b21d6bf-63fa-454e-c9d1-5059224381b2"
      },
      "outputs": [
        {
          "name": "stdout",
          "output_type": "stream",
          "text": [
            "175\n",
            "96\n",
            "Score is  31.346938775510203 . You are Obese\n"
          ]
        }
      ],
      "source": [
        "#1\n",
        "def function(height,weight):\n",
        "    height1=height/100\n",
        "    bmi=weight/((height1)*(height1))\n",
        "    if bmi<18.5:\n",
        "        print(\"Score is \",bmi,\".\",\"You are Underweight\")\n",
        "    \n",
        "    elif 18.5<=bmi<=24.9:\n",
        "        print(\"Score is \",bmi,\".\",\"You are Normal\")\n",
        "    elif 25<=bmi<=30:\n",
        "        print(\"Score is \",bmi,\".\",\"You are Overweight\")\n",
        "    elif bmi>30:\n",
        "        print(\"Score is \",bmi,\".\",\"You are Obese\")\n",
        "    \n",
        "    \n",
        "height=int(input())\n",
        "weight=int(input())\n",
        "function(height,weight)"
      ]
    },
    {
      "cell_type": "code",
      "execution_count": null,
      "id": "16f83723",
      "metadata": {
        "id": "16f83723",
        "outputId": "39be55ec-1eff-4132-9be0-d278a8e069f2"
      },
      "outputs": [
        {
          "name": "stdout",
          "output_type": "stream",
          "text": [
            "3\n",
            "16\n",
            "3\n",
            "45\n"
          ]
        }
      ],
      "source": [
        "#2\n",
        "def function(mini,maxi,divi):\n",
        "    total=0\n",
        "    for num in range(mini,maxi):\n",
        "        if num%divi==0:\n",
        "            total+=num\n",
        "    return total\n",
        "\n",
        "    \n",
        "mini=int(input())\n",
        "maxi=int(input())\n",
        "divi=int(input())\n",
        "print(function(mini,maxi,divi))"
      ]
    },
    {
      "cell_type": "code",
      "execution_count": null,
      "id": "95f620c4",
      "metadata": {
        "id": "95f620c4",
        "outputId": "b3350a80-9ed5-4f84-a542-2ebc006aa975"
      },
      "outputs": [
        {
          "name": "stdout",
          "output_type": "stream",
          "text": [
            "(‘Beef Burger’)\n",
            "223.6\n"
          ]
        }
      ],
      "source": [
        "#3\n",
        "def order(order_item,location=\"Mohakhali\"):\n",
        "    if location==\"Mohakhali\" or location==\"\":\n",
        "        delivery=40\n",
        "    else:\n",
        "        delivery=60\n",
        "    total=0\n",
        "\n",
        "    if order_item==\"BBQ Chicken Cheese Burger\":\n",
        "        total+=250+(250*.08)+delivery\n",
        "    \n",
        "    elif order_item==\"Beef Burger\":\n",
        "        total+=170+(170*.08)+delivery\n",
        "    elif order_item==\"Naga Drums\":\n",
        "        total+=200+(200*.08)+delivery\n",
        "    \n",
        "    \n",
        "    \n",
        "    return total\n",
        "input1=input()\n",
        "old_in=input1[1:-1].split(\", \")\n",
        "new_list=[]\n",
        "for elem in old_in:\n",
        "    new_list.append(elem[1:-1])\n",
        "item=new_list[0]\n",
        "if len(new_list)==1:\n",
        "    location=\"Mohakhali\"\n",
        "else:\n",
        "    location=new_list[1]\n",
        "\n",
        "print(order(item,location))"
      ]
    },
    {
      "cell_type": "code",
      "execution_count": null,
      "id": "90dcef24",
      "metadata": {
        "id": "90dcef24",
        "outputId": "439da057-d537-4761-b258-4023bb16ede1"
      },
      "outputs": [
        {
          "name": "stdout",
          "output_type": "stream",
          "text": [
            "(‘bob@sheba.xyz’, ‘sheba.xyz’)\n",
            "Unchanged: bob@sheba.xyz\n"
          ]
        }
      ],
      "source": [
        "#4\n",
        "def replace_domain(e_add,new_dom,old_dom):\n",
        "    list1=e_add.split(\"@\")\n",
        "    list2=[]\n",
        "    \n",
        "    if list1[1]==\"kaaj.com\":\n",
        "        list2.append(list1[0])\n",
        "        list2.append(\"sheba.xyz\")\n",
        "        print(\"Changed:\",list2[0]+\"@\"+list2[1])\n",
        "    elif list1[1]==\"sheba.xyz\":\n",
        "        print(\"Unchanged:\",list1[0]+\"@\"+list1[1])\n",
        "            \n",
        "\n",
        "input1=input()\n",
        "old_in=input1[1:-1].split(\", \")\n",
        "new_list=[]\n",
        "for elem in old_in:\n",
        "    new_list.append(elem[1:-1])\n",
        "e_add=new_list[0]\n",
        "new_dom=new_list[1]\n",
        "if len(new_list)==2:\n",
        "    old_dom=\"kaaj.com\"\n",
        "else:\n",
        "    old_dom=new_list[2]\n",
        "\n",
        "replace_domain(e_add,new_dom,old_dom)"
      ]
    },
    {
      "cell_type": "code",
      "execution_count": null,
      "id": "6d452f74",
      "metadata": {
        "id": "6d452f74",
        "outputId": "b80724bc-2d0a-4052-f7ea-5c8e9aab93c4"
      },
      "outputs": [
        {
          "name": "stdout",
          "output_type": "stream",
          "text": [
            "nurses run\n",
            "Palindrome\n"
          ]
        }
      ],
      "source": [
        "#5\n",
        "def checkpalindrome(char):\n",
        "    \n",
        "    if \" \" in char:\n",
        "        char=char.replace(\" \",\"\")\n",
        "        inv=char[::-1]\n",
        "        if char==inv:\n",
        "            print(\"Palindrome\")\n",
        "        else:\n",
        "            print(\"Not a palindrome\")\n",
        "    else:\n",
        "        inv=char[::-1]\n",
        "        if char==inv:\n",
        "            print(\"Palindrome\")\n",
        "        else:\n",
        "            print(\"Not a palindrome\")\n",
        "        \n",
        "        \n",
        "    \n",
        "    \n",
        "input1=input()\n",
        "checkpalindrome(input1)"
      ]
    },
    {
      "cell_type": "code",
      "execution_count": null,
      "id": "d0dd6f02",
      "metadata": {
        "colab": {
          "base_uri": "https://localhost:8080/"
        },
        "id": "d0dd6f02",
        "outputId": "279f35e2-752b-42f9-eb06-d839aaebd9b9"
      },
      "outputs": [
        {
          "output_type": "stream",
          "name": "stdout",
          "text": [
            "my favourite animal is a dog. a dog has sharp teeth so that it can eat flesh very easily.  do you know my pet dog’s name? i love my pet very much.\n",
            "my favourite animal is a dog. a dog has sharp teeth so that it can eat flesh very easily.  do you know my pet dog’s name? I love my pet very much.\n"
          ]
        }
      ],
      "source": [
        "#6\n",
        "def function(para):\n",
        "    flag=0\n",
        "    ans=\"\"\n",
        "    for index in range(len(para)):\n",
        "\n",
        "        if para[index]== \"i\" and para[index+1]==para[index-1]==\" \":\n",
        "            a=para[index].upper()\n",
        "            ans+=a\n",
        "        else:\n",
        "            ans+=para[index]\n",
        "        if para[index] in \".!?\":\n",
        "            flag==1\n",
        "        if flag==1:\n",
        "            a=para[index+2].upper()\n",
        "            ans+=a\n",
        "            flag=0\n",
        "    \n",
        "            \n",
        "        \n",
        "            \n",
        "            \n",
        "    print(ans)\n",
        "    \n",
        "\n",
        "    \n",
        "input1=input()\n",
        "function(input1)"
      ]
    },
    {
      "cell_type": "code",
      "execution_count": null,
      "id": "d0aa5940",
      "metadata": {
        "id": "d0aa5940"
      },
      "outputs": [],
      "source": []
    }
  ],
  "metadata": {
    "kernelspec": {
      "display_name": "Python 3",
      "language": "python",
      "name": "python3"
    },
    "language_info": {
      "codemirror_mode": {
        "name": "ipython",
        "version": 3
      },
      "file_extension": ".py",
      "mimetype": "text/x-python",
      "name": "python",
      "nbconvert_exporter": "python",
      "pygments_lexer": "ipython3",
      "version": "3.8.8"
    },
    "colab": {
      "provenance": []
    }
  },
  "nbformat": 4,
  "nbformat_minor": 5
}