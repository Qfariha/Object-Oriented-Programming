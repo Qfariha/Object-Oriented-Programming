{
  "nbformat": 4,
  "nbformat_minor": 0,
  "metadata": {
    "colab": {
      "provenance": []
    },
    "kernelspec": {
      "name": "python3",
      "display_name": "Python 3"
    },
    "language_info": {
      "name": "python"
    }
  },
  "cells": [
    {
      "cell_type": "code",
      "execution_count": null,
      "metadata": {
        "colab": {
          "base_uri": "https://localhost:8080/"
        },
        "id": "HaQFsCT8FjfY",
        "outputId": "fb04a230-8211-46a4-8230-63b3192dc35a"
      },
      "outputs": [
        {
          "output_type": "stream",
          "name": "stdout",
          "text": [
            "Quiz 1 (out of 10): 10\n",
            "Quiz 2 (out of 10): 10\n",
            "Lab (out of 30): 30\n",
            "Mid (out of 20): 20\n",
            "Final (out of 30): 30\n",
            "Total marks: 100\n"
          ]
        }
      ],
      "source": [
        "#task-1\n",
        "class Marks:\n",
        "  def __init__(self,m):\n",
        "    self.mark=m\n",
        "  def __add__(self,other):\n",
        "    return Marks(self.mark+other.mark)\n",
        "  # def __radd__(self,other):\n",
        "  #   return Marks(self.mark+other)\n",
        "\n",
        "Q1 = Marks(int(input(\"Quiz 1 (out of 10): \")))\n",
        "Q2 = Marks(int(input(\"Quiz 2 (out of 10): \")))\n",
        "Lab = Marks(int(input(\"Lab (out of 30): \")))\n",
        "Mid = Marks(int(input(\"Mid (out of 20): \")))\n",
        "Final = Marks(int(input(\"Final (out of 30): \")))\n",
        "total = Q1 + Q2 + Lab + Mid + Final\n",
        "print(\"Total marks: {}\".format(total.mark))"
      ]
    },
    {
      "cell_type": "code",
      "source": [
        "#task-4\n",
        "class Color:\n",
        "  def __init__(self,c):\n",
        "    self.clr=c\n",
        "  def __add__(self,other):\n",
        "    if self.clr=='red' and other.clr==\"yellow\":\n",
        "      return Color(\"Orange\")\n",
        "    elif self.clr=='yellow' and other.clr==\"red\":\n",
        "      return Color(\"Orange\")\n",
        "    elif self.clr=='red' and other.clr==\"blue\":\n",
        "      return Color(\"Violet\")\n",
        "    elif self.clr=='blue' and other.clr==\"red\":\n",
        "      return Color(\"Violet\")\n",
        "    elif self.clr=='yellow' and other.clr==\"blue\":\n",
        "      return Color(\"Green\")\n",
        "    elif self.clr=='blue' and other.clr==\"yellow\":\n",
        "      return Color(\"Green\")\n",
        "  \n",
        "\n",
        "C1 = Color(input(\"First Color: \").lower())\n",
        "C2 = Color(input(\"Second Color: \").lower())\n",
        "C3 = C1 + C2\n",
        "print(\"Color formed:\", C3.clr)"
      ],
      "metadata": {
        "colab": {
          "base_uri": "https://localhost:8080/"
        },
        "id": "9PN-SysROg0b",
        "outputId": "c909aee5-50e9-45a4-e82c-baad42ff0bc6"
      },
      "execution_count": null,
      "outputs": [
        {
          "output_type": "stream",
          "name": "stdout",
          "text": [
            "First Color: red\n",
            "Second Color: yellow\n",
            "Color formed: Orange\n"
          ]
        }
      ]
    },
    {
      "cell_type": "code",
      "source": [
        "#task-7\n",
        "class Dolls:\n",
        "  def __init__(self,d,p):\n",
        "    self.doll=d\n",
        "    self.price=p\n",
        "    self.flag=0\n",
        "\n",
        "\n",
        "  def detail(self):\n",
        "    #print(self.flag)\n",
        "    if self.flag==0:\n",
        "      return (f'Doll: {self.doll} \\nTotal Price: {self.price}')\n",
        "    else:\n",
        "  \n",
        "      return (f'Dolls: {self.doll} \\nTotal Price: {self.price}')\n",
        "    \n",
        "  def __gt__(self,other):\n",
        "    if self.price> other.price:\n",
        "      return True\n",
        "    else:\n",
        "      return False\n",
        "  def __add__(self,other):\n",
        "    temp=Dolls(self.doll+other.doll,self.price+other.price)\n",
        "    temp.flag=1\n",
        "    return temp\n",
        "    \n",
        "  \n",
        "\n",
        "obj_1 = Dolls(\"Tweety\", 2500)\n",
        "print(obj_1.detail())\n",
        "if obj_1 > obj_1:\n",
        "  print(\"Congratulations! You get the Tweety as a gift!\")\n",
        "else:\n",
        "  print(\"Thank you!\")\n",
        "print(\"=========================\")\n",
        "obj_2 = Dolls(\"Daffy Duck\", 1800)\n",
        "print(obj_2.detail())\n",
        "if obj_2 > obj_1:\n",
        "  print(\"Congratulations! You get the Tweety as a gift!\")\n",
        "else:\n",
        "  print(\"Thank you!\")\n",
        "print(\"=========================\")\n",
        "obj_3 = Dolls(\"Bugs Bunny\", 3000)\n",
        "print(obj_3.detail())\n",
        "if obj_3 > obj_1:\n",
        "  print(\"Congratulations! You get the Tweety as a gift!\")\n",
        "else:\n",
        "  print(\"Thank you!\")\n",
        "print(\"=========================\")\n",
        "obj_4 = Dolls(\"Porky Pig\", 1500)\n",
        "print(obj_4.detail())\n",
        "if obj_4 > obj_1:\n",
        "  print(\"Congratulations! You get the Tweety as a gift!\")\n",
        "else:\n",
        "  print(\"Thank you!\")\n",
        "print(\"=========================\")\n",
        "obj_5 = obj_2 + obj_3\n",
        "print(obj_5.detail())\n",
        "if obj_5 > obj_1:\n",
        "  print(\"Congratulations! You get the Tweety as a gift!\")\n",
        "else:\n",
        "  print(\"Thank you!\")"
      ],
      "metadata": {
        "colab": {
          "base_uri": "https://localhost:8080/"
        },
        "id": "UqeQ17FkS-JV",
        "outputId": "05256d1d-439b-441f-96c4-2e0c19275a34"
      },
      "execution_count": null,
      "outputs": [
        {
          "output_type": "stream",
          "name": "stdout",
          "text": [
            "Doll: Tweety \n",
            "Total Price: 2500\n",
            "Thank you!\n",
            "=========================\n",
            "Doll: Daffy Duck \n",
            "Total Price: 1800\n",
            "Thank you!\n",
            "=========================\n",
            "Doll: Bugs Bunny \n",
            "Total Price: 3000\n",
            "Congratulations! You get the Tweety as a gift!\n",
            "=========================\n",
            "Doll: Porky Pig \n",
            "Total Price: 1500\n",
            "Thank you!\n",
            "=========================\n",
            "Dolls: Daffy DuckBugs Bunny \n",
            "Total Price: 4800\n",
            "Congratulations! You get the Tweety as a gift!\n"
          ]
        }
      ]
    },
    {
      "cell_type": "code",
      "source": [
        "#task-2\n",
        "class Teacher:\n",
        "  def __init__(self,n,d):\n",
        "    self.__name=n\n",
        "    self.__dept=d\n",
        "    self.__list1=[]\n",
        "  def addCourse(self,p):\n",
        "    self.__list1.append(p)\n",
        "\n",
        "  def printDetail(self):\n",
        "    print(\"====================\")\n",
        "    print(f'Name:{self.__name} \\nDepartment: {self.__dept} \\nList of courses \\n================')\n",
        "    for i in self.__list1:\n",
        "      print(i.course)\n",
        "    print(\"===============\")\n",
        "\n",
        "\n",
        "class Course:\n",
        "  def __init__(self,c):\n",
        "    self.course=c\n",
        "\n",
        "t1 = Teacher(\"Saad Abdullah\", \"CSE\")\n",
        "t2 = Teacher(\"Mumit Khan\", \"CSE\")\n",
        "t3 = Teacher(\"Sadia Kazi\", \"CSE\")\n",
        "c1 = Course(\"CSE 110 Programming Language I\")\n",
        "c2 = Course(\"CSE 111 Programming Language-II\")\n",
        "c3 = Course(\"CSE 220 Data Structures\")\n",
        "c4 = Course(\"CSE 221 Algorithms\")\n",
        "c5 = Course(\"CCSE 230 Discrete Mathematics\")\n",
        "c6 = Course(\"CSE 310 Object Oriented Programming\")\n",
        "c7 = Course(\"CSE 320 Data Communications\")\n",
        "c8 = Course(\"CSE 340 Computer Architecture\")\n",
        "t1.addCourse(c1)\n",
        "t1.addCourse(c2)\n",
        "t2.addCourse(c3)\n",
        "t2.addCourse(c4)\n",
        "t2.addCourse(c5)\n",
        "t3.addCourse(c6)\n",
        "t3.addCourse(c7)\n",
        "t3.addCourse(c8)\n",
        "t1.printDetail()\n",
        "t2.printDetail()\n",
        "t3.printDetail()"
      ],
      "metadata": {
        "colab": {
          "base_uri": "https://localhost:8080/"
        },
        "id": "4kghUyVWflkS",
        "outputId": "2ffa1d4f-0463-446a-e105-7b6f66bbd7a7"
      },
      "execution_count": null,
      "outputs": [
        {
          "output_type": "stream",
          "name": "stdout",
          "text": [
            "====================\n",
            "Name:Saad Abdullah \n",
            "Department: CSE \n",
            "List of courses \n",
            "================\n",
            "CSE 110 Programming Language I\n",
            "CSE 111 Programming Language-II\n",
            "===============\n",
            "====================\n",
            "Name:Mumit Khan \n",
            "Department: CSE \n",
            "List of courses \n",
            "================\n",
            "CSE 220 Data Structures\n",
            "CSE 221 Algorithms\n",
            "CCSE 230 Discrete Mathematics\n",
            "===============\n",
            "====================\n",
            "Name:Sadia Kazi \n",
            "Department: CSE \n",
            "List of courses \n",
            "================\n",
            "CSE 310 Object Oriented Programming\n",
            "CSE 320 Data Communications\n",
            "CSE 340 Computer Architecture\n",
            "===============\n"
          ]
        }
      ]
    },
    {
      "cell_type": "code",
      "source": [
        "#task-3\n",
        "class Team:\n",
        "  def __init__(self,n=None):\n",
        "    self.__name=n\n",
        "    self.__list1=[]\n",
        "  def setName(self,n1):\n",
        "    self.__name=n1\n",
        "  def addPlayer(self,c):\n",
        "    self.__list1.append(c.player)\n",
        "  def printDetail(self):\n",
        "    print(f'===========\\nTeam: {self.__name} \\nList of players: \\n{self.__list1} \\n===========')\n",
        "\n",
        "class Player:\n",
        "  def __init__(self,p):\n",
        "    self.player=p\n",
        "\n",
        "b = Team()\n",
        "b.setName('Bangladesh')\n",
        "mashrafi = Player(\"Mashrafi\")\n",
        "b.addPlayer(mashrafi)\n",
        "tamim = Player(\"Tamim\")\n",
        "b.addPlayer(tamim)\n",
        "b.printDetail()\n",
        "a = Team(\"Australia\")\n",
        "ponting = Player(\"Ponting\")\n",
        "a.addPlayer(ponting)\n",
        "lee = Player(\"Lee\")\n",
        "a.addPlayer(lee)\n",
        "a.printDetail()"
      ],
      "metadata": {
        "colab": {
          "base_uri": "https://localhost:8080/"
        },
        "id": "sfloFIq9kBsq",
        "outputId": "ec52f94f-b62b-49f6-81f7-ed1a4680ff9d"
      },
      "execution_count": null,
      "outputs": [
        {
          "output_type": "stream",
          "name": "stdout",
          "text": [
            "===========\n",
            "Team: Bangladesh \n",
            "List of players: \n",
            "['Mashrafi', 'Tamim'] \n",
            "===========\n",
            "===========\n",
            "Team: Australia \n",
            "List of players: \n",
            "['Ponting', 'Lee'] \n",
            "===========\n"
          ]
        }
      ]
    },
    {
      "cell_type": "code",
      "source": [
        "#task-5\n",
        "class Circle:\n",
        "  def __init__(self,r):\n",
        "    self.__radius=r\n",
        "  def getRadius(self):\n",
        "    return self.__radius\n",
        "  def setRadius(self,r2):\n",
        "    self.__radius=r2\n",
        "  def area(self):\n",
        "    return 3.1416*self.__radius*self.__radius\n",
        "  def __add__(self,other):\n",
        "    return Circle(self.__radius+other.__radius)\n",
        "\n",
        "c1 = Circle(4)\n",
        "print(\"First circle radius:\" , c1.getRadius())\n",
        "print(\"First circle area:\" ,c1.area())\n",
        "c2 = Circle(5)\n",
        "print(\"Second circle radius:\" ,c2.getRadius())\n",
        "print(\"Second circle area:\" ,c2.area())\n",
        "c3 = c1 + c2\n",
        "print(\"Third circle radius:\" ,c3.getRadius())\n",
        "print(\"Third circle area:\" ,c3.area())"
      ],
      "metadata": {
        "colab": {
          "base_uri": "https://localhost:8080/"
        },
        "id": "m3ZeqLfGplMi",
        "outputId": "1be6076f-65cb-4370-9db7-b1553ed535b7"
      },
      "execution_count": null,
      "outputs": [
        {
          "output_type": "stream",
          "name": "stdout",
          "text": [
            "First circle radius: 4\n",
            "First circle area: 50.2656\n",
            "Second circle radius: 5\n",
            "Second circle area: 78.54\n",
            "Third circle radius: 9\n",
            "Third circle area: 254.4696\n"
          ]
        }
      ]
    },
    {
      "cell_type": "code",
      "source": [
        "#task-6\n",
        "class Triangle:\n",
        "  def __init__(self,b,h):\n",
        "    self.__base=b\n",
        "    self.__height=h\n",
        "  def getBase(self):\n",
        "    return self.__base\n",
        "  def getHeight(self):\n",
        "    return self.__height\n",
        "  def setBase(self,b2):\n",
        "    self.__base=b2\n",
        "  def setHeight(self,h2):\n",
        "    self.__height=h2\n",
        "  def area(self):\n",
        "    return .5*self.__base*self.__height\n",
        "  def __sub__(self,other):\n",
        "    return Triangle(self.__base-other.__base, self.__height-other.__height)\n",
        "\n",
        "t1 = Triangle(10, 5)\n",
        "print(\"First Triangle Base:\" , t1.getBase())\n",
        "print(\"First Triangle Height:\" , t1.getHeight())\n",
        "print(\"First Triangle area:\" ,t1.area())\n",
        "t2 = Triangle(5, 3)\n",
        "print(\"Second Triangle Base:\" , t2.getBase())\n",
        "print(\"Second Triangle Height:\" , t2.getHeight())\n",
        "print(\"Second Triangle area:\" ,t2.area())\n",
        "t3 = t1 - t2\n",
        "print(\"Third Triangle Base:\" , t3.getBase())\n",
        "print(\"Third Triangle Height:\" , t3.getHeight())\n",
        "print(\"Third Triangle area:\" ,t3.area())"
      ],
      "metadata": {
        "colab": {
          "base_uri": "https://localhost:8080/"
        },
        "id": "DyryiNsorwwp",
        "outputId": "ba6d891e-3791-461e-f6a6-b1eb58d06a4d"
      },
      "execution_count": null,
      "outputs": [
        {
          "output_type": "stream",
          "name": "stdout",
          "text": [
            "First Triangle Base: 10\n",
            "First Triangle Height: 5\n",
            "First Triangle area: 25.0\n",
            "Second Triangle Base: 5\n",
            "Second Triangle Height: 3\n",
            "Second Triangle area: 7.5\n",
            "Third Triangle Base: 5\n",
            "Third Triangle Height: 2\n",
            "Third Triangle area: 5.0\n"
          ]
        }
      ]
    },
    {
      "cell_type": "code",
      "source": [
        "#task-8\n",
        "class Coordinates:\n",
        "  def __init__(self,n1,n2):\n",
        "    self.x=n1\n",
        "    self.y=n2\n",
        "  def __sub__(self,other):\n",
        "    return Coordinates(self.x-other.x, self.y-other.y)\n",
        "  def __mul__(self,other):\n",
        "    return Coordinates(self.x*other.x, self.y*other.y)\n",
        "  def __eq__(self,other):\n",
        "    if self.x==other.x and self.y==other.y:\n",
        "      return \"The calculated coordinates are the same.\"\n",
        "    else:\n",
        "      return \"The calculated coordinates are NOT the same.\"\n",
        "  def detail(self):\n",
        "    return (f'({self.x},{self.y})')\n",
        "    \n",
        "\n",
        "p1 = Coordinates(int(input()),int(input()))\n",
        "p2 = Coordinates(int(input()),int(input()))\n",
        "p4 = p1 - p2\n",
        "print(p4.detail())\n",
        "p5 = p1 * p2\n",
        "print(p5.detail())\n",
        "point_check = (p4 == p5)\n",
        "print(point_check)"
      ],
      "metadata": {
        "id": "zLQfQ1v1aO7N",
        "outputId": "4d72c1e5-eac5-4cce-d882-396143e8d28f",
        "colab": {
          "base_uri": "https://localhost:8080/"
        }
      },
      "execution_count": null,
      "outputs": [
        {
          "output_type": "stream",
          "name": "stdout",
          "text": [
            "0\n",
            "0\n",
            "0\n",
            "0\n",
            "(0,0)\n",
            "(0,0)\n",
            "The calculated coordinates are the same.\n"
          ]
        }
      ]
    }
  ]
}