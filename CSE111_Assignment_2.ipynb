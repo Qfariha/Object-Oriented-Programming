{
  "cells": [
    {
      "cell_type": "code",
      "execution_count": null,
      "metadata": {
        "colab": {
          "base_uri": "https://localhost:8080/"
        },
        "id": "iZZmpXLbygOk",
        "outputId": "51353839-97a7-4bf7-ff3a-8b1863374d87"
      },
      "outputs": [
        {
          "name": "stdout",
          "output_type": "stream",
          "text": [
            "Integer\n",
            "1234\n",
            "=====================\n",
            "String\n",
            "Hello\n",
            "=====================\n",
            "Float\n",
            "4.0\n"
          ]
        }
      ],
      "source": [
        "#1\n",
        "class DataType():\n",
        "  def __init__(self,n,v):\n",
        "    self.name=n\n",
        "    self.value=v\n",
        "data_type1 = DataType(\"Integer\", 1234)\n",
        "print(data_type1.name)\n",
        "print(data_type1.value)\n",
        "print('=====================')\n",
        "data_type2 = DataType(\"String\", \"Hello\")\n",
        "print(data_type2.name)\n",
        "print(data_type2.value)\n",
        "print('=====================')\n",
        "data_type3 = DataType(\"Float\", 4.0)\n",
        "print(data_type3.name)\n",
        "print(data_type3.value)"
      ]
    },
    {
      "cell_type": "code",
      "execution_count": null,
      "metadata": {
        "colab": {
          "base_uri": "https://localhost:8080/"
        },
        "id": "V6VyBXA96L7X",
        "outputId": "4a04e6a4-b0f9-4dcd-a4d2-3bc31ecae8eb"
      },
      "outputs": [
        {
          "name": "stdout",
          "output_type": "stream",
          "text": [
            "Name of this flower: Rose\n",
            "Color of this flower: Red\n",
            "Number of petal: 6\n",
            "=====================\n",
            "Name of this flower: Orchid\n",
            "Color of this flower: Purple\n",
            "Number of petal: 4\n",
            "<__main__.Flower object at 0x7f7837d3e250>\n",
            "<__main__.Flower object at 0x7f7837d3c190>\n",
            "they are different\n"
          ]
        }
      ],
      "source": [
        "#2\n",
        "class Flower():\n",
        "  def __init__(self):\n",
        "    self.name=\"\"\n",
        "    self.color=\"\"\n",
        "    self.num_of_petal=\"\"\n",
        "\n",
        "\n",
        "flower1 = Flower()\n",
        "flower1.name=\"Rose\"\n",
        "flower1.color=\"Red\"\n",
        "flower1.num_of_petal=6\n",
        "print(\"Name of this flower:\", flower1.name)\n",
        "print(\"Color of this flower:\",flower1.color)\n",
        "print(\"Number of petal:\",flower1.num_of_petal)\n",
        "print(\"=====================\")\n",
        "flower2 = Flower()\n",
        "flower2.name=\"Orchid\"\n",
        "flower2.color=\"Purple\"\n",
        "flower2.num_of_petal=4\n",
        "print(\"Name of this flower:\",flower2.name)\n",
        "print(\"Color of this flower:\",flower2.color)\n",
        "print (\"Number of petal:\",flower2. num_of_petal)\n",
        "print(flower1)\n",
        "print(flower2)\n",
        "print(\"they are different\")"
      ]
    },
    {
      "cell_type": "code",
      "execution_count": null,
      "metadata": {
        "colab": {
          "base_uri": "https://localhost:8080/"
        },
        "id": "-yTH5ItH9D08",
        "outputId": "e6ad3df0-2b4e-4d1e-b778-d4d872c08b51"
      },
      "outputs": [
        {
          "name": "stdout",
          "output_type": "stream",
          "text": [
            "Heath Ledger\n",
            "Mind Game\n",
            "False\n",
            "=====================\n",
            "Joaquin Phoenix\n",
            "Laughing out Loud\n",
            "True\n",
            "=====================\n",
            "different\n",
            "same\n"
          ]
        }
      ],
      "source": [
        "#3\n",
        "class Joker():\n",
        "  def __init__(self,n,p,c):\n",
        "    self.name=n\n",
        "    self.power=p\n",
        "    self.is_he_psycho=c\n",
        "j1 = Joker('Heath Ledger', 'Mind Game', False)\n",
        "print(j1.name)\n",
        "print(j1.power)\n",
        "print(j1.is_he_psycho)\n",
        "print(\"=====================\")\n",
        "j2 = Joker('Joaquin Phoenix', 'Laughing out Loud', True)\n",
        "print(j2.name)\n",
        "print(j2.power)\n",
        "print(j2.is_he_psycho)\n",
        "print(\"=====================\")\n",
        "if j1 == j2:    #duita object er memory location same na\n",
        "  print('same')\n",
        "else:\n",
        "  print('different')\n",
        "j2.name = 'Heath Ledger' #j2 object name j1 er ta kore disi tai ans same\n",
        "if j1.name == j2.name:\n",
        "  print('same')\n",
        "else:\n",
        "  print('different')\n"
      ]
    },
    {
      "cell_type": "code",
      "execution_count": null,
      "metadata": {
        "colab": {
          "base_uri": "https://localhost:8080/"
        },
        "id": "wPxOnJUS-I2N",
        "outputId": "accbc418-8dd9-4e2a-c4ea-bfe3eb4d5262"
      },
      "outputs": [
        {
          "name": "stdout",
          "output_type": "stream",
          "text": [
            "=======Team 1=======\n",
            "Pokemon 1: pikachu 90\n",
            "Pokemon 2: charmander 60\n",
            "Combined Power: 1500\n",
            "=======Team 2=======\n",
            "Pokemon 1: bulbasaur 80\n",
            "Pokemon 2: squirtle 70\n",
            "Combined Power: 1350\n"
          ]
        }
      ],
      "source": [
        "#4\n",
        "class Pokemon():\n",
        "  def __init__(self,n,p,q,r,s):\n",
        "    self.pokemon1_name=n\n",
        "    self.pokemon2_name=p\n",
        "    self.pokemon1_power=q\n",
        "    self.pokemon2_power=r\n",
        "    self.damage_rate=s\n",
        "  \n",
        "\n",
        "team_pika = Pokemon('pikachu', 'charmander', 90, 60, 10)\n",
        "print('=======Team 1=======')\n",
        "print('Pokemon 1:',team_pika.pokemon1_name,team_pika.pokemon1_power)\n",
        "print('Pokemon 2:',team_pika.pokemon2_name,team_pika.pokemon2_power)\n",
        "pika_combined_power = (team_pika.pokemon1_power +team_pika.pokemon2_power) * team_pika.damage_rate\n",
        "print('Combined Power:', pika_combined_power)\n",
        "\n",
        "team_bulb = Pokemon('bulbasaur', 'squirtle', 80, 70, 9)\n",
        "print('=======Team 2=======')\n",
        "print('Pokemon 1:',team_bulb.pokemon1_name,team_bulb.pokemon1_power)\n",
        "print('Pokemon 2:',team_bulb.pokemon2_name,team_bulb.pokemon2_power)\n",
        "pika_combined_power = (team_bulb.pokemon1_power +team_bulb.pokemon2_power) * team_bulb.damage_rate\n",
        "print('Combined Power:', pika_combined_power)"
      ]
    },
    {
      "cell_type": "code",
      "execution_count": null,
      "metadata": {
        "colab": {
          "base_uri": "https://localhost:8080/"
        },
        "id": "xkXU3heQCox1",
        "outputId": "becd9413-eee6-4b05-859b-fdb1a1f64be7"
      },
      "outputs": [
        {
          "name": "stdout",
          "output_type": "stream",
          "text": [
            "Name of the Player: Ronaldo\n",
            "Jersey Number of player: 9\n",
            "Position of player: Striker\n",
            "===========================\n",
            "Name of the player: Neuer\n",
            "Jersey Number of player: 1\n",
            "Position of player: Goal Keeper\n"
          ]
        }
      ],
      "source": [
        "#5\n",
        "class Player():\n",
        "  def __init__(self):\n",
        "    self.name=\"\"\n",
        "    self.jersy_number=0\n",
        "    self.position=\"\"\n",
        "player1 = Player()\n",
        "player1.name = \"Ronaldo\"\n",
        "player1.jersy_number = 9\n",
        "player1.position = \"Striker\"\n",
        "print(\"Name of the Player:\", player1.name)\n",
        "print(\"Jersey Number of player:\", player1.jersy_number)\n",
        "print(\"Position of player:\", player1.position)\n",
        "print(\"===========================\")\n",
        "player2 = Player()\n",
        "player2.name = \"Neuer\"\n",
        "player2.jersy_number = 1\n",
        "player2.position = \"Goal Keeper\"\n",
        "print(\"Name of the player:\", player2.name)\n",
        "print(\"Jersey Number of player:\", player2.jersy_number)\n",
        "print(\"Position of player:\", player2.position)"
      ]
    },
    {
      "cell_type": "code",
      "execution_count": null,
      "metadata": {
        "colab": {
          "base_uri": "https://localhost:8080/"
        },
        "id": "ssFyTu-358L3",
        "outputId": "4de61828-b392-49c3-80d6-55452f8e330e"
      },
      "outputs": [
        {
          "name": "stdout",
          "output_type": "stream",
          "text": [
            "Name: Bangladesh\n",
            "Continent: Asia\n",
            "Capital: Dhaka\n",
            "Fifa Ranking: 187\n",
            "===================\n",
            "Name: Belgium\n",
            "Continent: Europe\n",
            "Capital: Brussels\n",
            "Fifa Ranking: 1\n"
          ]
        }
      ],
      "source": [
        "#6\n",
        "class Country():\n",
        "  def __init__(self):\n",
        "    self.name=\"\"\n",
        "    self.continent=\"\"\n",
        "    self.capital=\"\"\n",
        "    self.fifa_ranking=0\n",
        "country = Country()\n",
        "country.name =\"Bangladesh\"\n",
        "country.continent =\"Asia\"\n",
        "country.capital =\"Dhaka\"\n",
        "country.fifa_ranking = 187\n",
        "print(\"Name:\",country.name)\n",
        "print(\"Continent:\",country.continent)\n",
        "print(\"Capital:\",country.capital)\n",
        "print(\"Fifa Ranking:\",country.fifa_ranking)\n",
        "print('===================')\n",
        "country.name =\"Belgium\"\n",
        "country.continent =\"Europe\"\n",
        "country.capital =\"Brussels\"\n",
        "country.fifa_ranking = 1\n",
        "print(\"Name:\",country.name)\n",
        "print(\"Continent:\",country.continent)\n",
        "print(\"Capital:\",country.capital)\n",
        "print(\"Fifa Ranking:\",country.fifa_ranking)"
      ]
    },
    {
      "cell_type": "code",
      "execution_count": null,
      "metadata": {
        "colab": {
          "base_uri": "https://localhost:8080/"
        },
        "id": "EX4j-pkGIUPE",
        "outputId": "ceec0593-98be-42f7-deb3-5fb59d542f0f"
      },
      "outputs": [
        {
          "name": "stdout",
          "output_type": "stream",
          "text": [
            "Name: Tanjiro\n",
            "Fighting Style: Water Breathing\n",
            "Knows 10 technique(s) and has killed 10 demon(s)\n",
            "===================\n",
            "Name: Zenitsu\n",
            "Fighting Style: Thunder Breathing\n",
            "Knows 1 technique(s) and has killed 4 demon(s)\n",
            "===================\n",
            "Name: Inosuke\n",
            "Fighting Style: Beast Breathing\n",
            "Knows 5 technique(s) and has killed 7 demon(s)\n",
            "===================\n",
            "Tanjiro, Zenitsu, Inosuke knows total 16 techniques\n",
            "They have killed total 21 demons\n"
          ]
        }
      ],
      "source": [
        "#7\n",
        "class DemonSlayer():\n",
        "  def __init__(self,n,p,q,r):\n",
        "    self.name=n\n",
        "    self.style=p\n",
        "    self.number_of_technique=q\n",
        "    self.kill=r\n",
        "\n",
        "tanjiro = DemonSlayer(\"Tanjiro\", \"Water Breathing\", 10, 10)\n",
        "print('Name:',tanjiro.name)\n",
        "print('Fighting Style:',tanjiro.style)\n",
        "print(f'Knows {tanjiro.number_of_technique} technique(s) and has killed {tanjiro.kill} demon(s)')\n",
        "print('===================')\n",
        "zenitsu = DemonSlayer(\"Zenitsu\", \"Thunder Breathing\", 1, 4)\n",
        "print('Name:',zenitsu.name)\n",
        "print('Fighting Style:',zenitsu.style)\n",
        "print(f'Knows {zenitsu.number_of_technique} technique(s) and has killed {zenitsu.kill} demon(s)')\n",
        "print('===================')\n",
        "inosuke = DemonSlayer(\"Inosuke\", \"Beast Breathing\", 5, 7)\n",
        "print('Name:',inosuke.name)\n",
        "print('Fighting Style:',inosuke.style)\n",
        "print(f'Knows {inosuke.number_of_technique} technique(s) and has killed {inosuke.kill} demon(s)')\n",
        "print('===================')\n",
        "print(f'{tanjiro.name}, {zenitsu.name}, {inosuke.name} knows total {tanjiro.number_of_technique + zenitsu.number_of_technique + inosuke.number_of_technique} techniques')\n",
        "print(f'They have killed total {tanjiro.kill + zenitsu.kill + inosuke.kill} demons')"
      ]
    },
    {
      "cell_type": "code",
      "source": [
        "#8\n",
        "class box():\n",
        "  def __init__(self,arg):\n",
        "      \n",
        "    self.height=arg[0]\n",
        "    self.width=arg[1]\n",
        "    self.breadth=arg[2]\n",
        "    volume=arg[0]*arg[1]*arg[2]\n",
        "    print(\"Creating a Box!\")\n",
        "    print(\"Volume of the box is\",volume,\"cubic units\")\n",
        "\n",
        "print(\"Box 1\")\n",
        "b1 = box([10,10,10])\n",
        "      \n",
        "print(\"=========================\")\n",
        "print(\"Height:\", b1.height)\n",
        "print(\"Width:\", b1.width)\n",
        "print(\"Breadth:\", b1.breadth)\n",
        "print(\"-------------------------\")\n",
        "print(\"Box 2\")\n",
        "b2 = box((30,10,10))\n",
        "print(\"=========================\")\n",
        "print(\"Height:\", b2.height)\n",
        "print(\"Width:\", b2.width)\n",
        "print(\"Breadth:\", b2.breadth)\n",
        "b2.height = 300\n",
        "print(\"Updating Box 2!\")\n",
        "print(\"Height:\", b2.height)\n",
        "print(\"Width:\", b2.width)\n",
        "print(\"Breadth:\", b2.breadth)\n",
        "print(\"-------------------------\")\n",
        "print(\"Box 3\")\n",
        "b3 = b2\n",
        "print(\"Height:\", b3.height)\n",
        "print(\"Width:\", b3.width)\n",
        "print(\"Breadth:\", b3.breadth)"
      ],
      "metadata": {
        "colab": {
          "base_uri": "https://localhost:8080/"
        },
        "id": "jaIGeXZnUcwS",
        "outputId": "f6abf00a-4120-4972-e5bc-a2833a1b0791"
      },
      "execution_count": null,
      "outputs": [
        {
          "output_type": "stream",
          "name": "stdout",
          "text": [
            "Box 1\n",
            "Creating a Box!\n",
            "Volume of the box is 1000 cubic units\n",
            "=========================\n",
            "Height: 10\n",
            "Width: 10\n",
            "Breadth: 10\n",
            "-------------------------\n",
            "Box 2\n",
            "Creating a Box!\n",
            "Volume of the box is 3000 cubic units\n",
            "=========================\n",
            "Height: 30\n",
            "Width: 10\n",
            "Breadth: 10\n",
            "Updating Box 2!\n",
            "Height: 300\n",
            "Width: 10\n",
            "Breadth: 10\n",
            "-------------------------\n",
            "Box 3\n",
            "Height: 300\n",
            "Width: 10\n",
            "Breadth: 10\n"
          ]
        }
      ]
    },
    {
      "cell_type": "code",
      "source": [
        "#9\n",
        "class buttons():\n",
        "  def __init__(self,p,q,r):\n",
        "    self.word=p\n",
        "    self.spaces=q\n",
        "    self.border=r\n",
        "    total= 1+ q + len(p)+ q+ 1\n",
        "    print(p,\"Button Specifications:\")\n",
        "    print(\"Button name:\",p)\n",
        "    print(\"Number of the border characters for the top and the bottom:\",total)\n",
        "    print(\"Number of spaces between the left side border and the first character of the button name:\",q) \n",
        "    print(\"Number of spaces between the right side border and the last character of the button name:\",q)\n",
        "    print(\"Characters representing the borders:\",r)\n",
        "    print(r*total)\n",
        "    print(r,\" \"*(q-2),p,\" \"*(q-2),r)\n",
        "    print(r*total)\n",
        "\n",
        "\n",
        "word = \"CANCEL\"\n",
        "spaces = 10\n",
        "border = 'x'\n",
        "b1 = buttons(word, spaces, border)\n",
        "print(\"=======================================================\")\n",
        "b2 = buttons(\"Notify\",3, '!')\n",
        "print(\"=======================================================\")\n",
        "b3 = buttons('SAVE PROGRESS', 5, '$')\n"
      ],
      "metadata": {
        "colab": {
          "base_uri": "https://localhost:8080/"
        },
        "id": "NHmnpw_Ab1Oy",
        "outputId": "696b26e1-e715-47c4-d178-d20db3a3765b"
      },
      "execution_count": null,
      "outputs": [
        {
          "output_type": "stream",
          "name": "stdout",
          "text": [
            "CANCEL Button Specifications:\n",
            "Button name: CANCEL\n",
            "Number of the border characters for the top and the bottom: 28\n",
            "Number of spaces between the left side border and the first character of the button name: 10\n",
            "Number of spaces between the right side border and the last character of the button name: 10\n",
            "Characters representing the borders: x\n",
            "xxxxxxxxxxxxxxxxxxxxxxxxxxxx\n",
            "x          CANCEL          x\n",
            "xxxxxxxxxxxxxxxxxxxxxxxxxxxx\n",
            "=======================================================\n",
            "Notify Button Specifications:\n",
            "Button name: Notify\n",
            "Number of the border characters for the top and the bottom: 14\n",
            "Number of spaces between the left side border and the first character of the button name: 3\n",
            "Number of spaces between the right side border and the last character of the button name: 3\n",
            "Characters representing the borders: !\n",
            "!!!!!!!!!!!!!!\n",
            "!   Notify   !\n",
            "!!!!!!!!!!!!!!\n",
            "=======================================================\n",
            "SAVE PROGRESS Button Specifications:\n",
            "Button name: SAVE PROGRESS\n",
            "Number of the border characters for the top and the bottom: 25\n",
            "Number of spaces between the left side border and the first character of the button name: 5\n",
            "Number of spaces between the right side border and the last character of the button name: 5\n",
            "Characters representing the borders: $\n",
            "$$$$$$$$$$$$$$$$$$$$$$$$$\n",
            "$     SAVE PROGRESS     $\n",
            "$$$$$$$$$$$$$$$$$$$$$$$$$\n"
          ]
        }
      ]
    },
    {
      "cell_type": "code",
      "source": [
        "#10\n",
        "class Wadiya():\n",
        "  def __init__(self):\n",
        "    self.name = 'Aladeen'\n",
        "    self.designation = 'President Prime Minister Admiral General'\n",
        "    self.num_of_wife = 100\n",
        "    self.dictator = True\n",
        "\n",
        "b1 = Wadiya()\n",
        "print(\"Part 1:\")\n",
        "print(\"Name of President:\", b1.name)\n",
        "print(\"Designation:\", b1.designation)\n",
        "print(\"Number of wife:\", b1.num_of_wife)\n",
        "print(\"Is he/she a dictator:\", b1.dictator)\n",
        "\n",
        "b1 = Wadiya()\n",
        "b1.name = \"Donald Trump\"\n",
        "b1.designation = \"President\"\n",
        "b1.num_of_wife = 1\n",
        "b1.dictator = False\n",
        "\n",
        "print(\"Part 2:\")\n",
        "print(\"Name of President:\", b1.name)\n",
        "print(\"Designation:\", b1.designation)\n",
        "print(\"Number of wife:\", b1.num_of_wife)\n",
        "print(\"Is he/she a dictator:\", b1.dictator)"
      ],
      "metadata": {
        "colab": {
          "base_uri": "https://localhost:8080/"
        },
        "id": "cbsCLCXypO2o",
        "outputId": "e951bbd8-48e5-4218-e788-15a4f32909b7"
      },
      "execution_count": null,
      "outputs": [
        {
          "output_type": "stream",
          "name": "stdout",
          "text": [
            "Part 1:\n",
            "Name of President: Aladeen\n",
            "Designation: President Prime Minister Admiral General\n",
            "Number of wife: 100\n",
            "Is he/she a dictator: True\n",
            "Part 2:\n",
            "Name of President: Donald Trump\n",
            "Designation: President\n",
            "Number of wife: 1\n",
            "Is he/she a dictator: False\n"
          ]
        }
      ]
    },
    {
      "cell_type": "code",
      "source": [
        "#11\n",
        "class Human:\n",
        "  def __init__(self):\n",
        "    self.age = 0\n",
        "    self.height = 0.0\n",
        "\n",
        "h1 = Human()\n",
        "h2 = Human()\n",
        "h1.age = 21\n",
        "h1.height = 5.5\n",
        "print(h1.age)\n",
        "print(h1.height)\n",
        "h2.height = h1.height - 3\n",
        "print(h2.height)\n",
        "h2.age = h1.age\n",
        "h1.age += h1.age\n",
        "print(h1.age)\n",
        "h2 = h1\n",
        "print(h2.age)\n",
        "print(h2.height)\n",
        "h1.age += h1.age\n",
        "h2.height += h2.height\n",
        "print(h1.age)\n",
        "print(h1.height)\n",
        "h2.age += h2.age\n",
        "h1.age = h2.age\n",
        "print(h2.age)"
      ],
      "metadata": {
        "colab": {
          "base_uri": "https://localhost:8080/"
        },
        "id": "i4vxiAG_IjNI",
        "outputId": "7c722ca2-7036-4f47-fa34-278aa0911a79"
      },
      "execution_count": null,
      "outputs": [
        {
          "output_type": "stream",
          "name": "stdout",
          "text": [
            "21\n",
            "5.5\n",
            "2.5\n",
            "42\n",
            "42\n",
            "5.5\n",
            "84\n",
            "11.0\n",
            "168\n"
          ]
        }
      ]
    },
    {
      "cell_type": "code",
      "source": [
        "#12\n",
        "class Student: \n",
        "    def __init__(self):\n",
        "        self.name = None\n",
        "        self.cgpa = 0.0\n",
        "s1 = Student()\n",
        "s2 = Student()\n",
        "s3 = None\n",
        "s1.name = \"Student One\"\n",
        "s1.cgpa = 2.3\n",
        "s3 = s1\n",
        "s2.name = \"Student Two\"\n",
        "s2.cgpa = s3.cgpa + 1\n",
        "s3.name = \"New Student\"\n",
        "print(s1.name)\n",
        "print(s2.name)\n",
        "print(s3.name)\n",
        "print(s1.cgpa)\n",
        "print(s2.cgpa)\n",
        "print(s3.cgpa)\n",
        "s3 = s2\n",
        "s1.name = \"old student\"\n",
        "s2.name = \"older student\"\n",
        "s3.name = \"oldest student\"\n",
        "s2.cgpa = s1.cgpa - s3.cgpa + 4.5\n",
        "print(s1.name)\n",
        "print(s2.name)\n",
        "print(s3.name)\n",
        "print(s1.cgpa)\n",
        "print(s2.cgpa)\n",
        "print(s3.cgpa)"
      ],
      "metadata": {
        "colab": {
          "base_uri": "https://localhost:8080/"
        },
        "id": "ohBO9m-InVwE",
        "outputId": "e1f68d24-d467-4a23-9dc9-c1e1a18d98b3"
      },
      "execution_count": null,
      "outputs": [
        {
          "output_type": "stream",
          "name": "stdout",
          "text": [
            "New Student\n",
            "Student Two\n",
            "New Student\n",
            "2.3\n",
            "3.3\n",
            "2.3\n",
            "old student\n",
            "oldest student\n",
            "oldest student\n",
            "2.3\n",
            "3.5\n",
            "3.5\n"
          ]
        }
      ]
    },
    {
      "cell_type": "code",
      "source": [
        "#13\n",
        "class Ninja: \n",
        "  def __init__(self):\n",
        "    self.rank = 0\n",
        "    self.stamina = 0.0\n",
        "\n",
        "naruto = Ninja()\n",
        "yellow_flash = Ninja()\n",
        "naruto.rank = 1\n",
        "naruto.stamina = 95.0\n",
        "print(naruto.rank)\n",
        "print(naruto.stamina)\n",
        "yellow_flash.stamina = naruto.stamina - 2\n",
        "print(yellow_flash.stamina)\n",
        "yellow_flash.rank += (naruto.rank + 1)\n",
        "print(yellow_flash.rank)\n",
        "minato = yellow_flash\n",
        "print(minato.rank)\n",
        "print(minato.stamina)\n",
        "naruto.rank = minato.rank - 1\n",
        "naruto.stamina = yellow_flash.stamina + 3\n",
        "print(naruto.rank)\n",
        "print(naruto.stamina)\n",
        "naruto.rank = -(-naruto.rank)\n",
        "yellow_flash.stamina = -(-minato.stamina)\n",
        "print(naruto.rank)\n",
        "print(minato.stamina)"
      ],
      "metadata": {
        "colab": {
          "base_uri": "https://localhost:8080/"
        },
        "id": "U0BXHQnOP5q1",
        "outputId": "90983acc-a6e9-4c50-e813-f82951063c7b"
      },
      "execution_count": null,
      "outputs": [
        {
          "output_type": "stream",
          "name": "stdout",
          "text": [
            "1\n",
            "95.0\n",
            "93.0\n",
            "2\n",
            "2\n",
            "93.0\n",
            "1\n",
            "96.0\n",
            "1\n",
            "93.0\n"
          ]
        }
      ]
    }
  ],
  "metadata": {
    "colab": {
      "provenance": []
    },
    "kernelspec": {
      "display_name": "Python 3",
      "name": "python3"
    },
    "language_info": {
      "name": "python"
    }
  },
  "nbformat": 4,
  "nbformat_minor": 0
}